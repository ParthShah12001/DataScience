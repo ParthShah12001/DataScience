{
 "cells": [
  {
   "cell_type": "markdown",
   "id": "c3b14ef9-c99f-400a-993a-6f6c93fe4208",
   "metadata": {},
   "source": [
    "# Assignment 4 Solution"
   ]
  },
  {
   "cell_type": "markdown",
   "id": "5db493de",
   "metadata": {},
   "source": [
    "<b>1. What exactly is []?</b><br><br>\n",
    "<b>Ans </b>:- `[]` represents empty list"
   ]
  },
  {
   "cell_type": "markdown",
   "id": "9b64e6e3",
   "metadata": {},
   "source": [
    "<b>2. In a list of values stored in a variable called spam, how would you assign the value 'hello' as the third value? (Assume [2, 4, 6, 8, 10] are in spam.)</b><br><br>\n",
    "<b>Ans </b>:- `spam[2] = 'hello'`"
   ]
  },
  {
   "cell_type": "code",
   "execution_count": 2,
   "id": "53063f14",
   "metadata": {},
   "outputs": [
    {
     "name": "stdout",
     "output_type": "stream",
     "text": [
      "[2, 4, 'hello', 8, 10]\n"
     ]
    }
   ],
   "source": [
    "spam = [2,4,6,8,10]\n",
    "spam[2] = 'hello'\n",
    "print(spam)"
   ]
  },
  {
   "cell_type": "markdown",
   "id": "f02b7d92",
   "metadata": {},
   "source": [
    "# <b>Let's pretend the spam includes the list ['a', 'b', 'c', 'd'] for the next three queries.</b>"
   ]
  },
  {
   "cell_type": "markdown",
   "id": "5a017ba6",
   "metadata": {},
   "source": [
    "<b>3. What is the value of spam[int(int('3' * 2) / 11)]?</b><br><br>\n",
    "<b>Ans </b>:- `'3'*2` = `'33'`  and `int(int(33)/11)` = `3`<br>\n",
    "    so value at `spam[3]` is `d`"
   ]
  },
  {
   "cell_type": "code",
   "execution_count": 3,
   "id": "dc750b9d",
   "metadata": {},
   "outputs": [
    {
     "data": {
      "text/plain": [
       "'d'"
      ]
     },
     "execution_count": 3,
     "metadata": {},
     "output_type": "execute_result"
    }
   ],
   "source": [
    "spam  = ['a','b','c','d']\n",
    "spam[int(int('3' * 2) / 11)]"
   ]
  },
  {
   "cell_type": "markdown",
   "id": "36e09174",
   "metadata": {},
   "source": [
    "<b>4. What is the value of spam[-1]?</b><br><br>\n",
    "<b>Ans </b>:- `-1 ` starts the index from behind or last so the value of `spam[-1]` is `d`"
   ]
  },
  {
   "cell_type": "code",
   "execution_count": 4,
   "id": "7049bb52",
   "metadata": {},
   "outputs": [
    {
     "data": {
      "text/plain": [
       "'d'"
      ]
     },
     "execution_count": 4,
     "metadata": {},
     "output_type": "execute_result"
    }
   ],
   "source": [
    "spam[-1]"
   ]
  },
  {
   "cell_type": "markdown",
   "id": "fdbf24bc",
   "metadata": {},
   "source": [
    "<b>5. What is the value of spam[:2]?</b><br><br>\n",
    "<b>Ans </b>:- `[:2]` from `0th` index of the list to `2nd` index of the list but <b>excluding the 2nd index</b><br>\n",
    "`spam[:2] = ['a','b']`"
   ]
  },
  {
   "cell_type": "code",
   "execution_count": 5,
   "id": "db799c3e",
   "metadata": {},
   "outputs": [
    {
     "data": {
      "text/plain": [
       "['a', 'b']"
      ]
     },
     "execution_count": 5,
     "metadata": {},
     "output_type": "execute_result"
    }
   ],
   "source": [
    "spam[:2]"
   ]
  },
  {
   "cell_type": "markdown",
   "id": "f28cf71e",
   "metadata": {},
   "source": [
    "# <b>Let's pretend bacon has the list [3.14, 'cat', 11, 'cat', True] for the next three questions.</b>"
   ]
  },
  {
   "cell_type": "markdown",
   "id": "4465be82",
   "metadata": {},
   "source": [
    "<b>6. What is the value of bacon.index('cat')?</b><br><br>\n",
    "<b>Ans </b>:- The index method returns 1st occurance of the element in the list. As first occurance of cat is as 1st index in the list the query will give output as <b>`1`</b>"
   ]
  },
  {
   "cell_type": "code",
   "execution_count": 6,
   "id": "85ae7f74",
   "metadata": {},
   "outputs": [
    {
     "data": {
      "text/plain": [
       "1"
      ]
     },
     "execution_count": 6,
     "metadata": {},
     "output_type": "execute_result"
    }
   ],
   "source": [
    "bacon = [3.14, 'cat', 11, 'cat', True]\n",
    "bacon.index('cat')"
   ]
  },
  {
   "cell_type": "markdown",
   "id": "0b2f52df",
   "metadata": {},
   "source": [
    "<b>7. How does bacon.append(99) change the look of the list value in bacon?</b><br><br>\n",
    "<b>Ans </b>:- The append method adds the value at the end of the list so output will be<br>\n",
    "`bacon = [3.14, 'cat', 11, 'cat', True, 99]`"
   ]
  },
  {
   "cell_type": "code",
   "execution_count": 7,
   "id": "f82643d5",
   "metadata": {},
   "outputs": [
    {
     "data": {
      "text/plain": [
       "[3.14, 'cat', 11, 'cat', True, 99]"
      ]
     },
     "execution_count": 7,
     "metadata": {},
     "output_type": "execute_result"
    }
   ],
   "source": [
    "bacon.append(99)\n",
    "bacon"
   ]
  },
  {
   "cell_type": "markdown",
   "id": "cda7adfa",
   "metadata": {},
   "source": [
    "<b>8. How does bacon.remove('cat') change the look of the list in bacon?</b><br><br>\n",
    "<b>Ans </b>:- `remove` method remove the first occurance of the elemrnt in the list so it will remove the first occurance of cat and keep the list as it is<br>\n",
    "`[3.14, 11, 'cat', True, 99]`"
   ]
  },
  {
   "cell_type": "code",
   "execution_count": 8,
   "id": "922521a1",
   "metadata": {},
   "outputs": [
    {
     "data": {
      "text/plain": [
       "[3.14, 11, 'cat', True, 99]"
      ]
     },
     "execution_count": 8,
     "metadata": {},
     "output_type": "execute_result"
    }
   ],
   "source": [
    "bacon.remove('cat')\n",
    "bacon"
   ]
  },
  {
   "cell_type": "markdown",
   "id": "f48b624f",
   "metadata": {},
   "source": [
    "<b>9. What are the list concatenation and list replication operators?</b><br><br>\n",
    "<b>Ans </b>:- `+` is used to concatenate 2 list and `*` is used to replicate one"
   ]
  },
  {
   "cell_type": "code",
   "execution_count": 9,
   "id": "58253344",
   "metadata": {},
   "outputs": [
    {
     "name": "stdout",
     "output_type": "stream",
     "text": [
      "[1, 2, 3, 4, 5, 6, 7, 8]\n",
      "[1, 2, 3, 4, 5, 6, 1, 2, 3, 4, 5, 6, 1, 2, 3, 4, 5, 6, 1, 2, 3, 4, 5, 6, 1, 2, 3, 4, 5, 6]\n"
     ]
    }
   ],
   "source": [
    "list_5 = [1,2,3,4]\n",
    "list_6 = [5,6,7,8]\n",
    "print(list_5+list_6)\n",
    "print(list_1*5)"
   ]
  },
  {
   "cell_type": "markdown",
   "id": "750c095c",
   "metadata": {},
   "source": [
    "<b>10. What is difference between the list methods append() and insert()?</b><br><br>\n",
    "<b>Ans</b> :- `append()` method is used to add element at only end of the list where as `insert()` is used to add element at the index we want"
   ]
  },
  {
   "cell_type": "code",
   "execution_count": 10,
   "id": "889c5ca9",
   "metadata": {},
   "outputs": [
    {
     "name": "stdout",
     "output_type": "stream",
     "text": [
      "[1, 2, 3, 4, 5, 6]\n",
      "[1, 2, 'Demo', 3, 4, 5, 6]\n"
     ]
    }
   ],
   "source": [
    "list_9 = [1,2,3,4,5]\n",
    "list_9.append(6)\n",
    "print(list_9)\n",
    "list_9.insert(2,'Demo')\n",
    "print(list_9)"
   ]
  },
  {
   "cell_type": "markdown",
   "id": "a7f9b1e0",
   "metadata": {},
   "source": [
    "<b>11. What are the two methods for removing items from a list?</b><br><br>\n",
    "<b>Ans </b>:- `pop()` is used to remove element from end of the list and `remove()` method is used to remove the first occurance of specified element"
   ]
  },
  {
   "cell_type": "markdown",
   "id": "690e47e2",
   "metadata": {},
   "source": [
    "<b>12. Describe how list values and string values are identical.</b><br><br>\n",
    "<b>Ans </b>:- Both list and string can be indexed, sliced, looped, concatenated,etc. List is just collection of elements and it can also contain elements of different data type where as string is just collection elements of similar type"
   ]
  },
  {
   "cell_type": "markdown",
   "id": "6e93c907",
   "metadata": {},
   "source": [
    "<b>13. What's the difference between tuples and lists?</b><br><br>\n",
    "<b>Ans </b>:- Tuples and list's are little bit similar but tuples are `immutable` but on the other hand list are `mutable`."
   ]
  },
  {
   "cell_type": "markdown",
   "id": "2e5cbd58",
   "metadata": {},
   "source": [
    "<b>14. How do you type a tuple value that only contains the integer 42?</b><br><br>\n",
    "<b>Ans </b>:- If we just type 42 inside round brackets then it will take it as as integer and not tuple instead we should type it as follows <br>\n",
    "<b>`tuple_1 = (42,)`</b>"
   ]
  },
  {
   "cell_type": "code",
   "execution_count": 11,
   "id": "f9db60d0",
   "metadata": {},
   "outputs": [
    {
     "name": "stdout",
     "output_type": "stream",
     "text": [
      "<class 'int'>\n",
      "<class 'tuple'>\n"
     ]
    }
   ],
   "source": [
    "tuple_5 = (42)\n",
    "tuple_6 = (42,)\n",
    "print(type(tuple_5))\n",
    "print(type(tuple_6))"
   ]
  },
  {
   "cell_type": "markdown",
   "id": "5c1474d1",
   "metadata": {},
   "source": [
    "<b>15. How do you get a list value's tuple form? How do you get a tuple value's list form?</b><br><br>\n",
    "<b>Ans </b>:- We can use <b>`list()`</b> to convert a tuple to a list and similarly we can use <b>`tuple()`</b> to conver a list"
   ]
  },
  {
   "cell_type": "code",
   "execution_count": 12,
   "id": "2a5e5c8f",
   "metadata": {},
   "outputs": [
    {
     "name": "stdout",
     "output_type": "stream",
     "text": [
      "<class 'list'>\n",
      "<class 'tuple'>\n"
     ]
    }
   ],
   "source": [
    "list_1 = [1,2,3,4,5,6]\n",
    "tuple_1 = (1,2,3,4,5,6)\n",
    "list_2 = list(tuple_1)    #tuple coverted to list\n",
    "tuple_2 = tuple(list_1)   # list converted to tuple\n",
    "print(type(list_2))\n",
    "print(type(tuple_2))"
   ]
  },
  {
   "cell_type": "markdown",
   "id": "2948db88",
   "metadata": {},
   "source": [
    "<b>16. Variables that \"contain\" list values are not necessarily lists themselves. Instead, what do they contain?</b><br><br>\n",
    "<b>Ans </b>:- reference to the list value"
   ]
  },
  {
   "cell_type": "markdown",
   "id": "b79584ec",
   "metadata": {},
   "source": [
    "<b>17. How do you distinguish between copy.copy() and copy.deepcopy()?</b><br><br>\n",
    "<b>Ans </b>:-<b>`copy.copy()`</b> creates a new object that is a shallow copy of the original object, meaning the content of the new object still references the same objects as the original object.<br>\n",
    "\n",
    "<b>`copy.deepcopy()`</b> creates a new object that is a deep copy of the original object, meaning it creates a completely independent new object, including all the nested objects. Changes made to the original object or its nested objects will not affect the deep copy."
   ]
  },
  {
   "cell_type": "code",
   "execution_count": 13,
   "id": "a20a0a24",
   "metadata": {},
   "outputs": [
    {
     "name": "stdout",
     "output_type": "stream",
     "text": [
      "[5, [2, 3, 6], 4]\n",
      "[1, [2, 3, 6], 4]\n",
      "[1, [2, 3], 4]\n"
     ]
    }
   ],
   "source": [
    "import copy\n",
    "\n",
    "original_list = [1, [2, 3], 4]\n",
    "\n",
    "# Shallow copy\n",
    "shallow_copy = copy.copy(original_list)\n",
    "\n",
    "# Deep copy\n",
    "deep_copy = copy.deepcopy(original_list)\n",
    "\n",
    "original_list[0] = 5\n",
    "original_list[1].append(6)\n",
    "\n",
    "print(original_list)   # Output: [5, [2, 3, 6], 4]\n",
    "print(shallow_copy)    # Output: [5, [2, 3, 6], 4]\n",
    "print(deep_copy)       # Output: [1, [2, 3], 4]\n"
   ]
  },
  {
   "cell_type": "code",
   "execution_count": null,
   "id": "110b6758",
   "metadata": {},
   "outputs": [],
   "source": []
  }
 ],
 "metadata": {
  "kernelspec": {
   "display_name": "Python 3",
   "language": "python",
   "name": "python3"
  },
  "language_info": {
   "codemirror_mode": {
    "name": "ipython",
    "version": 3
   },
   "file_extension": ".py",
   "mimetype": "text/x-python",
   "name": "python",
   "nbconvert_exporter": "python",
   "pygments_lexer": "ipython3",
   "version": "3.8.8"
  }
 },
 "nbformat": 4,
 "nbformat_minor": 5
}
