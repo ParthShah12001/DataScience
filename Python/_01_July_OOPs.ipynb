{
 "cells": [
  {
   "cell_type": "markdown",
   "id": "e5b8c340-1274-4d5b-9329-ffcfb884e0af",
   "metadata": {},
   "source": [
    "# _01_July_OOPs Solution"
   ]
  },
  {
   "cell_type": "markdown",
   "id": "03351ca0",
   "metadata": {},
   "source": [
    "<b>1. What is the primary goal of Object-Oriented Programming (OOP)?</b><br><br>\n",
    "<b>Ans: </b>Primary goals of OOP are to make code reusable and effective. It provides modularity and organized approched to develope a code. OOP make code more readable and understandable and following oop rules make it easy for us to make changes in the application with minimal changes and effort. OOP is mainly based on `Encaption`,`Polymorphism`,`Abstraction` and `Inheritance` which makes it easy for us to code and develope big applications with ease."
   ]
  },
  {
   "cell_type": "markdown",
   "id": "51c95e28",
   "metadata": {},
   "source": [
    "<b>2. What is an object in Python?</b><br><br>\n",
    "<b>Ans: </b>The object is nothing but instance of the class. Object is a building block of python that represents specific entity. An object is like a container that holds both data and the operations that can be performed on that data. It is an instance of a class, which defines its structure and behavior."
   ]
  },
  {
   "cell_type": "markdown",
   "id": "77bb3d83",
   "metadata": {},
   "source": [
    "<b>3. What is a class in Python?</b><br><br>\n",
    "<b>Ans: </b>A class is nothing but blue print of the object that defines structure and behaviours. A class defines the properties (attributes) and actions (methods) that objects of that class can have.Think of a class as a blueprint for creating objects. It describes what attributes an object should have and what actions the object can perform."
   ]
  },
  {
   "cell_type": "markdown",
   "id": "74bc8780",
   "metadata": {},
   "source": [
    "<b>4. What are attributes and methods in a class?</b><br><br>\n",
    "<b>Ans: </b>`Attributes: `Attributes are variables that store data associated with a class or its instances (objects). They represent the state or characteristics of the objects. Each instance of a class can have its own set of attribute values. Attributes can be thought of as the noun or properties of an object.<br><br>\n",
    "`Objects: `Methods are functions defined within a class that define the behavior or actions that objects of that class can perform. They represent the actions or operations that objects can do. Methods can be thought of as the verb or actions associated with an object."
   ]
  },
  {
   "cell_type": "markdown",
   "id": "17040915",
   "metadata": {},
   "source": [
    "<b>5. What is the difference between class variables and instance variables in Python?</b><br><br>\n",
    "<b>Ans: </b>class variables and instance variable differ in terms of their scope, lifetime, and how they are accessed.<br><br>\n",
    "<b>class variables: </b><br>\n",
    "Class variables are variables that are shared among all instances (objects) of a class. They are defined within the class but outside any methods.<br>\n",
    "Class variables are associated with the class itself rather than specific instances. Any modification to a class variable affects all instances of the class.<br>\n",
    "Class variables are accessible through the class name or through any instance of the class.<br>\n",
    "Class variables are typically used to store data that is common to all objects of the class.\n",
    "\n",
    "<b>instance variable:</b><br>\n",
    "Instance variables are variables that are unique to each instance (object) of a class. They are defined within the class's methods or the class's __init__ method.<br>\n",
    "Each instance of the class has its own copy of instance variables, and modifications to instance variables affect only that specific instance.<br>\n",
    "Instance variables are accessible only through the specific instance of the class.<br>\n",
    "Instance variables are typically used to store data that varies between instances or holds unique characteristics of each object<br>"
   ]
  },
  {
   "cell_type": "markdown",
   "id": "e39c83ff",
   "metadata": {},
   "source": [
    "<b>6. What is the purpose of the self parameter in Python classmethods?</b><br><br>\n",
    "<b>Ans: </b>In Python, the self parameter in class methods is used to refer to the instance of the class itself. It is a convention to name the first parameter of an instance method as self, although you can use any name you prefer.<br>\n",
    "\n",
    "The self parameter allows access to the attributes and methods of the current instance within the class. It acts as a reference to the instance and allows you to manipulate the instance's data and perform actions specific to that instance."
   ]
  },
  {
   "cell_type": "markdown",
   "id": "b49e50b9",
   "metadata": {},
   "source": [
    "<b>7.For a library management system, you have to design the \"Book\" class with OOP</b><br><br>\n",
    "attributes<br>\n",
    "a. title: Represents the title of the book.<br>\n",
    "b. author: Represents the author(s) of the book.<br>\n",
    "c. isbn: Represents the ISBN (International Standard Book Number) of the book.<br>\n",
    "d. publication_year: Represents the year of publication of the book.<br>\n",
    "e. available_copies: Represents the number of copies available for checkout.<br><br>\n",
    "methods<br>\n",
    "a. check_out(self): Decrements the available copies by one if there are copies\n",
    "available for checkout.<br>\n",
    "b. return_book(self): Increments the available copies by one when a book is\n",
    "returned.<br>\n",
    "c. display_book_info(self): Displays the information about the book, including its\n",
    "attributes and the number of available copies.<br>"
   ]
  },
  {
   "cell_type": "code",
   "execution_count": 38,
   "id": "b4167390",
   "metadata": {},
   "outputs": [],
   "source": [
    "class Book:\n",
    "    def __init__(self,title,author,isbn,publication_year,available_copies):\n",
    "        self.title = title\n",
    "        self.author = author\n",
    "        self.isbn = isbn\n",
    "        self.publication_year = publication_year\n",
    "        self.available_copies = int(available_copies)\n",
    "    def __str__(self):\n",
    "        return f\"Title: {self.title}\\nAuthor: {self.author}\\nisbn: {self.isbn}\\nPublication Year: {self.publication_year}\\nAvailable_Copies: {str(self.available_copies)}\"\n",
    "    def display_book_info(self):\n",
    "        print(self.__str__())\n",
    "    def check_out(self):\n",
    "        if self.available_copies > 0:\n",
    "            self.available_copies -= 1\n",
    "            print(\"Book issued out successfully\")\n",
    "        else:\n",
    "            print(\"Book not available right now\")\n",
    "    def return_book(self):\n",
    "        self.available_copies += 1\n",
    "        print(\"Book returned successfully\")"
   ]
  },
  {
   "cell_type": "code",
   "execution_count": 39,
   "id": "9f40a81d",
   "metadata": {},
   "outputs": [],
   "source": [
    "c = Book(\"book1\", \"fics\",\"135\",\"12331\",\"543\")"
   ]
  },
  {
   "cell_type": "code",
   "execution_count": 40,
   "id": "0ca159a7",
   "metadata": {},
   "outputs": [
    {
     "name": "stdout",
     "output_type": "stream",
     "text": [
      "Title: book1\n",
      "Author: fics\n",
      "isbn: 135\n",
      "Publication Year: 12331\n",
      "Available_Copies: 543\n"
     ]
    }
   ],
   "source": [
    "c.display_book_info()"
   ]
  },
  {
   "cell_type": "code",
   "execution_count": 41,
   "id": "70fef961",
   "metadata": {},
   "outputs": [
    {
     "name": "stdout",
     "output_type": "stream",
     "text": [
      "Book issued out successfully\n"
     ]
    }
   ],
   "source": [
    "c.check_out()"
   ]
  },
  {
   "cell_type": "code",
   "execution_count": 42,
   "id": "265a48f5",
   "metadata": {},
   "outputs": [
    {
     "name": "stdout",
     "output_type": "stream",
     "text": [
      "Title: book1\n",
      "Author: fics\n",
      "isbn: 135\n",
      "Publication Year: 12331\n",
      "Available_Copies: 542\n"
     ]
    }
   ],
   "source": [
    "c.display_book_info()"
   ]
  },
  {
   "cell_type": "code",
   "execution_count": 43,
   "id": "d929b7a3",
   "metadata": {},
   "outputs": [
    {
     "name": "stdout",
     "output_type": "stream",
     "text": [
      "Book returned successfully\n"
     ]
    }
   ],
   "source": [
    "c.return_book()"
   ]
  },
  {
   "cell_type": "code",
   "execution_count": 44,
   "id": "dc0ae11d",
   "metadata": {},
   "outputs": [
    {
     "name": "stdout",
     "output_type": "stream",
     "text": [
      "Title: book1\n",
      "Author: fics\n",
      "isbn: 135\n",
      "Publication Year: 12331\n",
      "Available_Copies: 543\n"
     ]
    }
   ],
   "source": [
    "c.display_book_info()"
   ]
  },
  {
   "cell_type": "markdown",
   "id": "c09b22bc",
   "metadata": {},
   "source": [
    "<b>8. For a ticket booking system, you have to design the \"Ticket\" class with OOP principles in mind.</b><br><br>\n",
    "\n",
    "attributes<br>\n",
    "a. ticket_id: Represents the unique identifier for the ticket.<br>\n",
    "b. event_name: Represents the name of the event.<br>\n",
    "c. event_date: Represents the date of the event.<br>\n",
    "d. venue: Represents the venue of the event.<br>\n",
    "e. seat_number: Represents the seat number associated with the ticket.<br>\n",
    "f. price: Represents the price of the ticket.<br>\n",
    "g. is_reserved: Represents the reservation status of the ticket.<br><br>\n",
    "methods<br>\n",
    "a. reserve_ticket(self): Marks the ticket as reserved if it is not already reserved.<br>\n",
    "b. cancel_reservation(self): Cancels the reservation of the ticket if it is already\n",
    "reserved.<br>\n",
    "c. display_ticket_info(self): Displays the information about the ticket, including its\n",
    "attributes and reservation status."
   ]
  },
  {
   "cell_type": "code",
   "execution_count": 45,
   "id": "20d28303",
   "metadata": {},
   "outputs": [],
   "source": [
    "class Ticket:\n",
    "    def __init__(self,ticket_id,event_name,event_date,venue,seat_number,price,is_reserved):\n",
    "        self.ticket_id = ticket_id\n",
    "        self.event_name = event_name\n",
    "        self.event_date = event_date\n",
    "        self.venue = venue \n",
    "        self.seat_number = seat_number\n",
    "        self.price = price\n",
    "        self.is_reserved = is_reserved\n",
    "    def __str__(self):\n",
    "        return f\"Ticket Id: {self.ticket_id}\\nEvent Name: {self.event_name}\\nEvent Date: {self.event_date}\\nVenue: {self.venue}\\nPrice: {self.price}\\nReserved: {self.is_reserved}\"\n",
    "    def display_ticket_info(self):\n",
    "        print(self.__str__())\n",
    "    def reserve_ticket(self):\n",
    "        if self.is_reserved != True:\n",
    "            self.is_reserved = True\n",
    "            print(\"Your tickt has been reserved successfully\")\n",
    "        else:\n",
    "            print(\"Your tickets is already Reserved\")\n",
    "    \n",
    "    def cancel_reservation(self):\n",
    "        if self.is_reserved != False:\n",
    "            self.is_reserved = False\n",
    "            print(\"YOur ticket has been canceled successfully\")\n",
    "        else:\n",
    "            print(\"Your tickets is not reserved yet to be cancelled\")\n",
    "    "
   ]
  },
  {
   "cell_type": "code",
   "execution_count": 46,
   "id": "be6fb089",
   "metadata": {},
   "outputs": [
    {
     "name": "stdout",
     "output_type": "stream",
     "text": [
      "Ticket Id: 123\n",
      "Event Name: New Year\n",
      "Event Date: 31/12/23\n",
      "Venue: Time Square\n",
      "Price: 12000\n",
      "Reserved: False\n"
     ]
    }
   ],
   "source": [
    "ticket1 = Ticket(\"123\",\"New Year\",\"31/12/23\",\"Time Square\",\"56\",\"12000\",\"False\")\n",
    "ticket1.display_ticket_info()"
   ]
  },
  {
   "cell_type": "code",
   "execution_count": 47,
   "id": "bdf205f4",
   "metadata": {},
   "outputs": [
    {
     "name": "stdout",
     "output_type": "stream",
     "text": [
      "Your tickt has been reserved successfully\n",
      "Ticket Id: 123\n",
      "Event Name: New Year\n",
      "Event Date: 31/12/23\n",
      "Venue: Time Square\n",
      "Price: 12000\n",
      "Reserved: True\n"
     ]
    }
   ],
   "source": [
    "ticket1.reserve_ticket()\n",
    "ticket1.display_ticket_info()"
   ]
  },
  {
   "cell_type": "code",
   "execution_count": 48,
   "id": "6eb11dba",
   "metadata": {},
   "outputs": [
    {
     "name": "stdout",
     "output_type": "stream",
     "text": [
      "YOur ticket has been canceled successfully\n",
      "Ticket Id: 123\n",
      "Event Name: New Year\n",
      "Event Date: 31/12/23\n",
      "Venue: Time Square\n",
      "Price: 12000\n",
      "Reserved: False\n"
     ]
    }
   ],
   "source": [
    "ticket1.cancel_reservation()\n",
    "ticket1.display_ticket_info()"
   ]
  },
  {
   "cell_type": "markdown",
   "id": "b86a2090",
   "metadata": {},
   "source": [
    "<b>9. You are creating a shopping cart for an e-commerce website. Using OOP to model the \"ShoppingCart\" functionality the class should contain following attributes and methods:</b><br><br>\n",
    "attributes<br>\n",
    "a. items: Represents the list of items in the shopping cart.<br><br>\n",
    "methods<br>\n",
    "a. add_item(self, item): Adds an item to the shopping cart by appending it to the list of items.<br>\n",
    "b. remove_item(self, item): Removes an item from the shopping cart if it exists in the list.<br>\n",
    "c. view_cart(self): Displays the items currently present in the shopping cart.<br>\n",
    "d. clear_cart(self): Clears all items from the shopping cart by reassigning an empty list to the items attribute."
   ]
  },
  {
   "cell_type": "code",
   "execution_count": 49,
   "id": "2638bd94",
   "metadata": {},
   "outputs": [],
   "source": [
    "class ShoppingCart:\n",
    "    def __init__(self,item_list):\n",
    "        self.item_list = item_list\n",
    "    def __str__(self):\n",
    "        string = \"\"\n",
    "        for i in (self.item_list):\n",
    "            string += i + \"\\n\"\n",
    "        if string==\"\":\n",
    "            return \"Your cart is empty\"\n",
    "        return string\n",
    "    def add_item(self,item):\n",
    "        if item!= \"\":\n",
    "            self.item_list.append(item)\n",
    "            print(\"Item added successfully\")\n",
    "        else:\n",
    "            print(\"Item not selected or specified please selected the item to add\")\n",
    "    def remove_item(self, item):\n",
    "        if item in self.item_list:\n",
    "            self.item_list.remove(item)\n",
    "            print(\"Item removed successfully\")\n",
    "        else:\n",
    "            print(\"Item not present in the cart\")\n",
    "    def view_cart(self):\n",
    "        print(self.__str__())\n",
    "    def clear_cart(self):\n",
    "        self.item_list = []\n",
    "        print(\"Cart emptied successfully\")"
   ]
  },
  {
   "cell_type": "code",
   "execution_count": 50,
   "id": "480aaee1",
   "metadata": {},
   "outputs": [
    {
     "name": "stdout",
     "output_type": "stream",
     "text": [
      "soap\n",
      "salt\n",
      "\n"
     ]
    }
   ],
   "source": [
    "cart = ShoppingCart([\"soap\",\"salt\"])\n",
    "cart.view_cart()"
   ]
  },
  {
   "cell_type": "code",
   "execution_count": 51,
   "id": "3bf125ca",
   "metadata": {},
   "outputs": [
    {
     "name": "stdout",
     "output_type": "stream",
     "text": [
      "Item added successfully\n",
      "soap\n",
      "salt\n",
      "Chips\n",
      "\n"
     ]
    }
   ],
   "source": [
    "cart.add_item(\"Chips\")\n",
    "cart.view_cart()"
   ]
  },
  {
   "cell_type": "code",
   "execution_count": 52,
   "id": "d4cdbfde",
   "metadata": {},
   "outputs": [
    {
     "name": "stdout",
     "output_type": "stream",
     "text": [
      "Item removed successfully\n",
      "salt\n",
      "Chips\n",
      "\n"
     ]
    }
   ],
   "source": [
    "cart.remove_item(\"soap\")\n",
    "cart.view_cart()"
   ]
  },
  {
   "cell_type": "code",
   "execution_count": 53,
   "id": "dee98bae",
   "metadata": {},
   "outputs": [
    {
     "name": "stdout",
     "output_type": "stream",
     "text": [
      "Cart emptied successfully\n"
     ]
    }
   ],
   "source": [
    "cart.clear_cart()"
   ]
  },
  {
   "cell_type": "code",
   "execution_count": 54,
   "id": "401a7a03",
   "metadata": {},
   "outputs": [
    {
     "name": "stdout",
     "output_type": "stream",
     "text": [
      "Your cart is empty\n"
     ]
    }
   ],
   "source": [
    "cart.view_cart()"
   ]
  },
  {
   "cell_type": "markdown",
   "id": "3429688e",
   "metadata": {},
   "source": [
    "<b>10. Imagine a school management system. You have to design the \"Student\" class using OOP concepts.The “Student” class has the following </b><br><br>\n",
    "attributes<br>\n",
    "a. name: Represents the name of the student.<br>\n",
    "b. age: Represents the age of the student.<br>\n",
    "c. grade: Represents the grade or class of the student.<br>\n",
    "d. student_id: Represents the unique identifier for the student.<br>\n",
    "e. attendance: Represents the attendance record of the student.<br><br>\n",
    "methods<br>\n",
    "a. update_attendance(self, date, status): Updates the attendance record of the student for a given date with the provided status (e.g., present or absent).<br>\n",
    "b. get_attendance(self): Returns the attendance record of the student.<br>\n",
    "c. get_average_attendance(self): Calculates and returns the average attendance percentage of the student based on their attendance record."
   ]
  },
  {
   "cell_type": "code",
   "execution_count": 55,
   "id": "b02fa814",
   "metadata": {},
   "outputs": [],
   "source": [
    "class Student:\n",
    "    def __init__(self,name,age,grade,student_id,attendence):\n",
    "        self.name = name\n",
    "        self.age = age\n",
    "        self.grade = grade\n",
    "        self.student_id = student_id\n",
    "        self.attendence = attendence\n",
    "    def __str__(self):\n",
    "        return f\"Name: {self.name}\\mAge: {str(self.age)}\\nGrade: {self.grade}\\nStudent Id:{str(self.student_id)}\\nAttendence: {self.attendence}\"\n",
    "    def get_attendence(self):\n",
    "        return f\"Attendence Record: {self.attendence}\"\n",
    "    def update_attendence(self,date,status):\n",
    "        if date in self.attendence:\n",
    "            self.attendence[date] = status #this will update record if exists \n",
    "            print(\"Record Updated successfully\")\n",
    "        else:\n",
    "            self.attendence[date] = status #this make a new enter if it doesn't\n",
    "            print(\"Record Added successfully\")\n",
    "\n",
    "    def get_average_attendance(self):\n",
    "        tot=0\n",
    "        for key,value in self.attendence.items():\n",
    "            tot += value\n",
    "        avg = (tot/len(self.attendence))*100\n",
    "        print(str(avg)+\"%\")\n",
    "        "
   ]
  },
  {
   "cell_type": "code",
   "execution_count": 56,
   "id": "5cd7b9b3",
   "metadata": {},
   "outputs": [
    {
     "data": {
      "text/plain": [
       "\"Attendence Record: {'1/1/23': 1, '2/1/23': 0, '3/1/23': 1, '4/1/23': 0, '5/1/23': 1}\""
      ]
     },
     "execution_count": 56,
     "metadata": {},
     "output_type": "execute_result"
    }
   ],
   "source": [
    "stu = Student(\"Vidisha\",13,7,12345,{\"1/1/23\":1,\"2/1/23\":0,\"3/1/23\":1,\"4/1/23\":0,\"5/1/23\":1})\n",
    "stu.get_attendence()"
   ]
  },
  {
   "cell_type": "code",
   "execution_count": 57,
   "id": "d7d979d6",
   "metadata": {},
   "outputs": [
    {
     "name": "stdout",
     "output_type": "stream",
     "text": [
      "60.0%\n"
     ]
    }
   ],
   "source": [
    "stu.get_average_attendance()"
   ]
  },
  {
   "cell_type": "code",
   "execution_count": 58,
   "id": "04f29e7a",
   "metadata": {},
   "outputs": [
    {
     "name": "stdout",
     "output_type": "stream",
     "text": [
      "Record Updated successfully\n"
     ]
    }
   ],
   "source": [
    "stu.update_attendence(\"2/1/23\",1)"
   ]
  },
  {
   "cell_type": "code",
   "execution_count": 59,
   "id": "64181756",
   "metadata": {},
   "outputs": [
    {
     "name": "stdout",
     "output_type": "stream",
     "text": [
      "80.0%\n"
     ]
    }
   ],
   "source": [
    "stu.get_average_attendance()"
   ]
  },
  {
   "cell_type": "code",
   "execution_count": null,
   "id": "8522965c",
   "metadata": {},
   "outputs": [],
   "source": []
  }
 ],
 "metadata": {
  "kernelspec": {
   "display_name": "Python 3",
   "language": "python",
   "name": "python3"
  },
  "language_info": {
   "codemirror_mode": {
    "name": "ipython",
    "version": 3
   },
   "file_extension": ".py",
   "mimetype": "text/x-python",
   "name": "python",
   "nbconvert_exporter": "python",
   "pygments_lexer": "ipython3",
   "version": "3.8.8"
  }
 },
 "nbformat": 4,
 "nbformat_minor": 5
}
