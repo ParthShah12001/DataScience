{
 "cells": [
  {
   "cell_type": "markdown",
   "id": "6bc846f5",
   "metadata": {},
   "source": [
    "# Assignment 7"
   ]
  },
  {
   "cell_type": "markdown",
   "id": "7f24d1bb",
   "metadata": {},
   "source": [
    "<b>Q.1. Create two int type variables, apply addition, subtraction, division and multiplications and store the results in variables. Then print the data in the following format by calling the variables:\n",
    "\n",
    "First variable is __ & second variable is __.</b>\n",
    "\n",
    "`Addition: __ + __ = __`<br>\n",
    "`Subtraction: __ - __ = __`<br>\n",
    "`Multiplication: __ * __ = __`<br>\n",
    "`Division: __ / __ = __`"
   ]
  },
  {
   "cell_type": "code",
   "execution_count": 7,
   "id": "778c03d7",
   "metadata": {},
   "outputs": [
    {
     "name": "stdout",
     "output_type": "stream",
     "text": [
      "First variable is 10 & second variable is 5\n",
      "Addition: 10 + 5 = 15\n",
      "Substraction: 10 - 5 = 5\n",
      "Multiplication: 10 * 5 = 50\n",
      "Division: 10 / 5 = 2.0\n"
     ]
    }
   ],
   "source": [
    "a = 10\n",
    "b = 5\n",
    "print(f'First variable is {a} & second variable is {b}')\n",
    "print(f'Addition: {a} + {b} = {a+b}')\n",
    "print(f'Substraction: {a} - {b} = {a-b}')\n",
    "print(f'Multiplication: {a} * {b} = {a*b}')\n",
    "print(f'Division: {a} / {b} = {a/b}')"
   ]
  },
  {
   "cell_type": "markdown",
   "id": "3d878f7c",
   "metadata": {},
   "source": [
    "<b>Q.2. What is the difference between the following operators:  </b><br>\n",
    "`(i) ‘/’ & ‘//’  `<br>\n",
    "`(ii) ‘**’ & ‘^’`<br><br>\n",
    "<b>Ans: </b><b>i)</b> Both operators / and // have similar operation but only difference is output given by `/` operator is float value while output given by `//` is integer value.<br>\n",
    "<b>ii)</b>`**` this operator denotes `power off` or `raised to` operation e.g. 3\\**2 = 9 and `^` operator denots bitwise XOR operation e.g 10^4 = 14."
   ]
  },
  {
   "cell_type": "markdown",
   "id": "5bf72199",
   "metadata": {},
   "source": [
    "<b>Q.3. List the logical operators.</b><br><br>\n",
    "<b>Ans: </b>There are 3 Logical Operators<br>\n",
    "1) `AND` : output is only true if both operands are true<br>\n",
    "2) `OR` : ouput is true if any one of the operands is true<br>\n",
    "3) `NOT` :output is always inverse of the given input"
   ]
  },
  {
   "cell_type": "markdown",
   "id": "d7f8fd5b",
   "metadata": {},
   "source": [
    "<b>Q.4. Explain right shift operator and left shift operator with examples.</b><br><br>\n",
    "<b>Ans: </b>`Left Shift`: Python bitwise left shift operator shifts the left operand bits towards the left side for the given number of times in the right operand. In simple terms, the binary number is appended with 0s at the end.<br>\n",
    "`Right Shift`:Python right shift operator is exactly the opposite of the left shift operator. Then left side operand bits are moved towards the right side for the given number of times. In simple terms, the right side bits are removed."
   ]
  },
  {
   "cell_type": "code",
   "execution_count": 13,
   "id": "2762266c",
   "metadata": {},
   "outputs": [
    {
     "name": "stdout",
     "output_type": "stream",
     "text": [
      "Left Shift\n",
      "40\n",
      "Right Shift\n",
      "2\n"
     ]
    }
   ],
   "source": [
    "#left Shift\n",
    "print(\"Left Shift\")\n",
    "print(10<<2)\n",
    "#Right Shift\n",
    "print(\"Right Shift\")\n",
    "print(10>>2)"
   ]
  },
  {
   "cell_type": "markdown",
   "id": "c6668030",
   "metadata": {},
   "source": [
    "<b>Q.5. Create a list containing int type data of length 15. Then write a code to check if 10 is present in the list or not.</b>"
   ]
  },
  {
   "cell_type": "code",
   "execution_count": 11,
   "id": "bd43cbd9",
   "metadata": {},
   "outputs": [
    {
     "name": "stdout",
     "output_type": "stream",
     "text": [
      "Present\n"
     ]
    }
   ],
   "source": [
    "def check_10(a):\n",
    "    for i in a:\n",
    "        if i == 10:\n",
    "            return \"Present\"\n",
    "    return \"Not Present\"\n",
    "\n",
    "a_list = []\n",
    "for i in range(15):\n",
    "    a_list.append(i)\n",
    "print(check_10(a_list))"
   ]
  },
  {
   "cell_type": "code",
   "execution_count": null,
   "id": "49534e2a",
   "metadata": {},
   "outputs": [],
   "source": []
  }
 ],
 "metadata": {
  "kernelspec": {
   "display_name": "Python 3",
   "language": "python",
   "name": "python3"
  },
  "language_info": {
   "codemirror_mode": {
    "name": "ipython",
    "version": 3
   },
   "file_extension": ".py",
   "mimetype": "text/x-python",
   "name": "python",
   "nbconvert_exporter": "python",
   "pygments_lexer": "ipython3",
   "version": "3.8.8"
  }
 },
 "nbformat": 4,
 "nbformat_minor": 5
}
