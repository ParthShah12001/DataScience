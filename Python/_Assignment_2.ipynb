{
 "cells": [
  {
   "cell_type": "markdown",
   "id": "1cd73860",
   "metadata": {},
   "source": [
    "# Assignment 2 Solution"
   ]
  },
  {
   "cell_type": "markdown",
   "id": "3e3e882b",
   "metadata": {},
   "source": [
    "<b>1.What are the two values of the Boolean data type? How do you write\n",
    "them?</b><br><br>\n",
    "<b>Ans </b>:- This is how we write two types of boolean Data type <b>`True`</b>and<b>`False`</b>"
   ]
  },
  {
   "cell_type": "markdown",
   "id": "112d5655",
   "metadata": {},
   "source": [
    "<b>2. What are the three different types of Boolean operators?</b>\n",
    "<br>\n",
    "<br>\n",
    "<b>Ans </b>:- Three operators are <b>`and`</b>,<b>`or`</b>,<b>`not`</b>"
   ]
  },
  {
   "cell_type": "code",
   "execution_count": 4,
   "id": "e2e80031",
   "metadata": {},
   "outputs": [
    {
     "name": "stdout",
     "output_type": "stream",
     "text": [
      "True\n",
      "False\n",
      "False\n"
     ]
    }
   ],
   "source": [
    "a = 100\n",
    "b = 200\n",
    "print(a>50 or b>100)\n",
    "print(b>100 and a>200)\n",
    "print(not(a<200))"
   ]
  },
  {
   "cell_type": "markdown",
   "id": "21f5cfb5",
   "metadata": {},
   "source": [
    "<b>3. Make a list of each Boolean operator's truth tables (i.e. every\n",
    "possible combination of Boolean values for the operator and what it\n",
    "evaluate ).</b><br><br>\n",
    "<b>Ans </b>:-<br>\n",
    "<b>`and`</b><br>\n",
    "True and True -------> True<br>\n",
    "True and False ------> False<br>\n",
    "False and True ------> False<br>\n",
    "False and False -----> False<br>\n",
    "<br>\n",
    "<b>`or`</b><br>\n",
    "True or True -------> True<br>\n",
    "True or False ------> True<br>\n",
    "False or True ------> True<br>\n",
    "False or False -----> False<br>\n",
    "<br>\n",
    "<b>`not`</b><br>\n",
    "True not -------> False<br>\n",
    "False not ------> True"
   ]
  },
  {
   "cell_type": "markdown",
   "id": "63dcece0",
   "metadata": {},
   "source": [
    "<b>4. What are the values of the following expressions?</b><br><br>\n",
    "<b>Ans</b>\n",
    "1) `(5 > 4) and (3 == 5)` --------------------> <b>False</b>\n",
    "\n",
    "2) `not (5 > 4)` -----------------------------> <b>False</b>\n",
    "\n",
    "3) `(5> 4) or (3 == 5)` ----------------------> <b>True</b>\n",
    "\n",
    "4) `not ((5 > 4) or (3 == 5))` ---------------> <b>False</b>\n",
    "\n",
    "5) `(True and True) and (True == False)` -----> <b>False</b>\n",
    "\n",
    "6) `(not False) or (not True)` ---------------> <b>True</b>\n"
   ]
  },
  {
   "cell_type": "markdown",
   "id": "ab891b05",
   "metadata": {},
   "source": [
    "<b>5. What are the six comparison operators?</b><br><br>\n",
    "<b>Ans </b>:- Six Comparison Operators are `>`,`<`,`>=`,`<=`,`==`,`!=`"
   ]
  },
  {
   "cell_type": "markdown",
   "id": "1eb343bf",
   "metadata": {},
   "source": [
    "<b>6. How do you tell the difference between the equal to and assignment\n",
    "operators?Describe a condition and when you would use one.</b><br><br>\n",
    "<b>Ans </b>:- Assignment operation has only 1 equals sign `=` where as Equal operation has 2 equals sign `==`."
   ]
  },
  {
   "cell_type": "code",
   "execution_count": 6,
   "id": "f82947a4",
   "metadata": {},
   "outputs": [],
   "source": [
    "a = 10    #Assignment operation\n",
    "if(a == 10):    #Equals operation to check condition\n",
    "    a=15  #Assignment operation"
   ]
  },
  {
   "cell_type": "markdown",
   "id": "53de4764",
   "metadata": {},
   "source": [
    "<b>7. Identify the three blocks in this code:</b>\n",
    "\n",
    "spam = 0\n",
    "\n",
    "if spam == 10:\n",
    "\n",
    "print('eggs')\n",
    "\n",
    "if spam \\> 5:\n",
    "\n",
    "print('bacon')\n",
    "\n",
    "else:\n",
    "\n",
    "print('ham')\n",
    "\n",
    "print('spam')\n",
    "\n",
    "print('spam')<br><br>\n",
    "<b>Ans </b>:- Code block refers to a collection of code that is in the same block or indent. This is most commonly found in classes, functions, and loops."
   ]
  },
  {
   "cell_type": "code",
   "execution_count": 7,
   "id": "07d41e13",
   "metadata": {},
   "outputs": [
    {
     "name": "stdout",
     "output_type": "stream",
     "text": [
      "ham\n",
      "spam\n",
      "spam\n"
     ]
    }
   ],
   "source": [
    "spam = 0\n",
    "if spam == 10:\n",
    "    print('eggs')      #Block 1\n",
    "if spam > 5 :\n",
    "    print('bacon')     #Block 2\n",
    "else:\n",
    "    print('ham')       #Block 3\n",
    "print('spam')\n",
    "print('spam')"
   ]
  },
  {
   "cell_type": "markdown",
   "id": "cf6210c2",
   "metadata": {},
   "source": [
    "<b>8. Write code that prints Hello if 1 is stored in spam, prints Howdy if\n",
    "2 is stored in spam, and prints Greetings! if anything else is stored in\n",
    "spam.</b>"
   ]
  },
  {
   "cell_type": "code",
   "execution_count": 13,
   "id": "38efd338",
   "metadata": {},
   "outputs": [
    {
     "name": "stdout",
     "output_type": "stream",
     "text": [
      "Hello\n",
      "Howdy\n",
      "Greetings!\n"
     ]
    }
   ],
   "source": [
    "def check_spam(spam):\n",
    "    if spam == 1:\n",
    "        print('Hello')\n",
    "    elif spam == 2:\n",
    "        print('Howdy')\n",
    "    else:\n",
    "        print(\"Greetings!\")\n",
    "\n",
    "check_spam(1)\n",
    "check_spam(2)\n",
    "check_spam(3)"
   ]
  },
  {
   "cell_type": "markdown",
   "id": "f99aace6",
   "metadata": {},
   "source": [
    "<b>9.If your programme is stuck in an endless loop, what keys you’ll press?</b><br><br>\n",
    "<b>And </b>:- `Ctrl` + `C`"
   ]
  },
  {
   "cell_type": "markdown",
   "id": "14d48a11",
   "metadata": {},
   "source": [
    "<b>10. How can you tell the difference between break and continue?</b><br><br>\n",
    "<b>Ans </b>:- <b>`break`</b> :- We use break when we want to completely stop the loop and get out of it <br>\n",
    "<b>`continue`</b> :- We use continue to skip a single condition or value in a loop and then continue the loop for other values"
   ]
  },
  {
   "cell_type": "markdown",
   "id": "4c519947",
   "metadata": {},
   "source": [
    "<b>11. In a for loop, what is the difference between range(10), range(0,\n",
    "10), and range(0, 10, 1)?</b><br><br>\n",
    "<b>Ans </b>:- <br>\n",
    "<b>range(10)</b> :- Loop starts at `0` and ends at `9` and dosen't consider `10`<br>\n",
    "<b>range(0,10)</b> :- It tells loop to explicitly start from `0` and it ends at `9`<br>\n",
    "<b>range(0,10,1)</b> : - It tells loop to start at `0` then it instead of jumping to 1 it will jump to 2 and will drop one number in middle e.g. 0,2,4,6,8 and it will end ar `8`"
   ]
  },
  {
   "cell_type": "markdown",
   "id": "ed916657",
   "metadata": {},
   "source": [
    "<b>12. Write a short program that prints the numbers 1 to 10 using a for\n",
    "loop. Then write an equivalent program that prints the numbers 1 to 10\n",
    "using a while loop.</b>"
   ]
  },
  {
   "cell_type": "code",
   "execution_count": 23,
   "id": "071b1bea",
   "metadata": {},
   "outputs": [
    {
     "name": "stdout",
     "output_type": "stream",
     "text": [
      "using For loop\n",
      "0 1 2 3 4 5 6 7 8 9 10 \n",
      "\n",
      "using while loop\n",
      "0 1 2 3 4 5 6 7 8 9 10 "
     ]
    }
   ],
   "source": [
    "print(\"using For loop\")\n",
    "for i in range(11):\n",
    "    print(i,end=\" \")\n",
    "print(\"\\n\")\n",
    "print(\"using while loop\")\n",
    "z = 0\n",
    "while z!=11:\n",
    "    print(z,end =\" \")\n",
    "    z+=1"
   ]
  },
  {
   "cell_type": "markdown",
   "id": "19560fa3",
   "metadata": {},
   "source": [
    "<b>13. If you had a function named bacon() inside a module named spam, how\n",
    "would you call it after importing spam?</b><br><br>\n",
    "<b>Ans </b>:- We can directly import bacon like this <b>`from spam import bacon`</b> and call it directly as <b>`bacon()`</b> or we can <b>`import spam`</b> and call bacon by <b>`spam.bacon()`</b>"
   ]
  }
 ],
 "metadata": {
  "kernelspec": {
   "display_name": "Python 3",
   "language": "python",
   "name": "python3"
  },
  "language_info": {
   "codemirror_mode": {
    "name": "ipython",
    "version": 3
   },
   "file_extension": ".py",
   "mimetype": "text/x-python",
   "name": "python",
   "nbconvert_exporter": "python",
   "pygments_lexer": "ipython3",
   "version": "3.8.8"
  }
 },
 "nbformat": 4,
 "nbformat_minor": 5
}
