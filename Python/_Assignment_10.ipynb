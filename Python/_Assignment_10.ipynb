{
 "cells": [
  {
   "cell_type": "markdown",
   "id": "ca424393-46ea-4bc2-8418-75babba96502",
   "metadata": {},
   "source": [
    "<p>Create a function that takes a full name as an argument and returns\n",
    "first name and last name.</p>\n",
    "</blockquote></th>\n",
    "</tr>\n",
    "</thead>\n",
    "<tbody>\n",
    "</tbody>\n",
    "</table>"
   ]
  },
  {
   "cell_type": "markdown",
   "id": "963847b9",
   "metadata": {},
   "source": [
    "<b>1. In Python, what is the difference between a built-in function and a user-defined function? Provide an example of each.</b><br><br>\n",
    "<b>Ans</b>: Difference between built-in and user-defined function is that built-in function are by default defined inside python and we don't have to define their funcationality before using them. On the other hand user define function are defined by us and its funcationality is defined by us we have to define it before using it.<br>\n",
    "for example<br>\n",
    "<b>Built-in</b>: `print()`, `sum()`, etc. are built in function <br>\n",
    "<b>User defined</b> <br>\n",
    "<b>def</b> `User_Defined_Function()`:<br>\n",
    "&emsp;print(\"Hello my name is Alex\")<br>\n",
    "    \n",
    "this is a user defined function so when we call this function \"Hello my name is Alex is directly printed on the screen\n",
    "\n"
   ]
  },
  {
   "cell_type": "markdown",
   "id": "bb22adb7",
   "metadata": {},
   "source": [
    "<b>2. How can you pass arguments to a function in Python? Explain the difference between positional arguments and keyword arguments.</b><br><br>\n",
    "<b>Ans</b>: We can pass argument my declaring them in the paranthesis after function name<br>\n",
    "There are 2 ways to pass a argument<br>\n",
    "<b>Positional Argument</b>: In this method we pass the argument in the calling method in a the same order in which we have mentioned in the function declaration <br>\n",
    "<b>keyword Arguments</b>: In this method we pass the arguments with their keywords as mentioned in the function declaration irrespective of the order in which we mention them in the calling function "
   ]
  },
  {
   "cell_type": "code",
   "execution_count": 2,
   "id": "d603db66",
   "metadata": {},
   "outputs": [
    {
     "name": "stdout",
     "output_type": "stream",
     "text": [
      "My name is Alex and my age is 20\n",
      "My name is Alex and my age is 23\n"
     ]
    }
   ],
   "source": [
    "def Positional_Arguments(name,age):\n",
    "    print(\"My name is \"+name+\" and my age is \"+str(age))\n",
    "\n",
    "def Keyword_Arguments(name,age):\n",
    "    print(\"My name is \"+name+\" and my age is \"+ str(age))\n",
    "    \n",
    "    \n",
    "Positional_Arguments(\"Alex\",20)\n",
    "Keyword_Arguments(age = 23 , name = \"Alex\")"
   ]
  },
  {
   "cell_type": "markdown",
   "id": "9abd2853",
   "metadata": {},
   "source": [
    "<b>3. What is the purpose of the return statement in a function? Can a function have multiple return statements? Explain with an example.</b><br><br>\n",
    "<b>Ans</b>: The return statement is used in the function to exit out of the function and sending back some value with it to the calling function<br>\n",
    "Yes, we can have multiple return statements in the a single function but once a return statement is encountered the function immediately gets exited"
   ]
  },
  {
   "cell_type": "code",
   "execution_count": 3,
   "id": "b8c8ebd1",
   "metadata": {},
   "outputs": [
    {
     "name": "stdout",
     "output_type": "stream",
     "text": [
      "Yes\n"
     ]
    }
   ],
   "source": [
    "def return_eg(a,b):\n",
    "    if a+b == 5:\n",
    "        return \"Yes\"\n",
    "    else:\n",
    "        return \"No\"\n",
    "print(return_eg(2,3))"
   ]
  },
  {
   "cell_type": "markdown",
   "id": "ebf6bb61",
   "metadata": {},
   "source": [
    "<b>4. What are lambda functions in Python? How are they different from regular functions? Provide an example where a lambda function can be useful.</b><br><br>\n",
    "<b>Ans</b>:Lambda functions, also known as anonymous functions, are a way to define small, one-line functions in Python. They are called \"anonymous\" because they don't require a named function definition using the def keyword. Instead, lambda functions are defined using the lambda keyword, followed by the arguments and an expression that represents the function's logic."
   ]
  },
  {
   "cell_type": "code",
   "execution_count": 4,
   "id": "dba7ef19",
   "metadata": {},
   "outputs": [
    {
     "name": "stdout",
     "output_type": "stream",
     "text": [
      "11\n"
     ]
    }
   ],
   "source": [
    "add = lambda x,y:x+y\n",
    "print(add(5,6))"
   ]
  },
  {
   "cell_type": "markdown",
   "id": "4ccc9c02",
   "metadata": {},
   "source": [
    "<b>5. How does the concept of \"scope\" apply to functions in Python? Explain the difference between local scope and global scope.</b><br><br>\n",
    "<b>Ans</b>:The scope defines the lifetime of variable and where the variable is accessible. Their are two scope global and local\n",
    "<br>\n",
    "`Global Scope`: This variable are availbale throught out the program and we can access it anywhere oin the code<br>\n",
    "`Local Scope`: This variable is available only in the function in which it is declared and not in the entired program"
   ]
  },
  {
   "cell_type": "code",
   "execution_count": 5,
   "id": "5dae0324",
   "metadata": {},
   "outputs": [
    {
     "ename": "NameError",
     "evalue": "name 'y' is not defined",
     "output_type": "error",
     "traceback": [
      "\u001b[1;31m---------------------------------------------------------------------------\u001b[0m",
      "\u001b[1;31mNameError\u001b[0m                                 Traceback (most recent call last)",
      "\u001b[1;32m<ipython-input-5-ffb70667d150>\u001b[0m in \u001b[0;36m<module>\u001b[1;34m\u001b[0m\n\u001b[0;32m      5\u001b[0m     \u001b[0mprint\u001b[0m\u001b[1;33m(\u001b[0m\u001b[0mx\u001b[0m\u001b[1;33m)\u001b[0m\u001b[1;33m\u001b[0m\u001b[1;33m\u001b[0m\u001b[0m\n\u001b[0;32m      6\u001b[0m \u001b[1;33m\u001b[0m\u001b[0m\n\u001b[1;32m----> 7\u001b[1;33m \u001b[0mprint\u001b[0m\u001b[1;33m(\u001b[0m\u001b[0my\u001b[0m\u001b[1;33m)\u001b[0m\u001b[1;33m\u001b[0m\u001b[1;33m\u001b[0m\u001b[0m\n\u001b[0m\u001b[0;32m      8\u001b[0m \u001b[0mprint\u001b[0m\u001b[1;33m(\u001b[0m\u001b[0mx\u001b[0m\u001b[1;33m)\u001b[0m\u001b[1;33m\u001b[0m\u001b[1;33m\u001b[0m\u001b[0m\n\u001b[0;32m      9\u001b[0m \u001b[0mlocal_scope\u001b[0m\u001b[1;33m(\u001b[0m\u001b[1;33m)\u001b[0m\u001b[1;33m\u001b[0m\u001b[1;33m\u001b[0m\u001b[0m\n",
      "\u001b[1;31mNameError\u001b[0m: name 'y' is not defined"
     ]
    }
   ],
   "source": [
    "x= 10\n",
    "def local_scope():\n",
    "    y = 20\n",
    "    print(y)\n",
    "    print(x)    #As this variable available globally  so it available \n",
    "    \n",
    "print(y)        #this variable is not available as it is declared inside the scope of the function so it will git error\n",
    "print(x)\n",
    "local_scope()"
   ]
  },
  {
   "cell_type": "markdown",
   "id": "71f7dee4",
   "metadata": {},
   "source": [
    "<b>6. How can you use the \"return\" statement in a Python function to return multiple values?</b><br><br>\n",
    "<b>Ans</b>: We can return multiple values in the return statement by returning a tuple, list or a dictionary<br>"
   ]
  },
  {
   "cell_type": "code",
   "execution_count": 6,
   "id": "5e25c860",
   "metadata": {},
   "outputs": [
    {
     "name": "stdout",
     "output_type": "stream",
     "text": [
      "[1, 2, 3, 4]\n"
     ]
    }
   ],
   "source": [
    "def test_function():\n",
    "    return [1,2,3,4]\n",
    "print(test_function())"
   ]
  },
  {
   "cell_type": "markdown",
   "id": "85129ca9",
   "metadata": {},
   "source": [
    "<b>7. What is the difference between the \"pass by value\" and \"pass by reference\" concepts when it comes to function arguments in Python?</b><br><br>"
   ]
  },
  {
   "cell_type": "code",
   "execution_count": 7,
   "id": "affd3477",
   "metadata": {},
   "outputs": [
    {
     "name": "stdout",
     "output_type": "stream",
     "text": [
      "Inside function: 10\n",
      "Outside function: 5\n"
     ]
    }
   ],
   "source": [
    "def modify_value(x):\n",
    "    x = 10  # Assign a new value to the reference\n",
    "    print(\"Inside function:\", x)\n",
    "\n",
    "value = 5\n",
    "modify_value(value)\n",
    "print(\"Outside function:\", value)"
   ]
  },
  {
   "cell_type": "markdown",
   "id": "591b70ba",
   "metadata": {},
   "source": [
    "<b>8. Create a function that can intake integer or decimal value and do following operations:<br>\n",
    "a. Logarithmic function (log x)<br>\n",
    "b. Exponential function (exp(x))<br>\n",
    "c. Power function with base 2 (2^x)<br>\n",
    "d. Square root</b>"
   ]
  },
  {
   "cell_type": "code",
   "execution_count": 8,
   "id": "98a335a7",
   "metadata": {},
   "outputs": [
    {
     "name": "stdout",
     "output_type": "stream",
     "text": [
      "4.605170185988092\n",
      "2.6881171418161356e+43\n",
      "1267650600228229401496703205376\n",
      "10.0\n"
     ]
    }
   ],
   "source": [
    "import math\n",
    "def test_function(x):\n",
    "    print(math.log(x))\n",
    "    print(math.exp(x))\n",
    "    print(2**x)\n",
    "    print(math.sqrt(x))\n",
    "\n",
    "test_function(100)"
   ]
  },
  {
   "cell_type": "markdown",
   "id": "73503a07",
   "metadata": {},
   "source": [
    "<b>9. Create a function that takes a full name as an argument and returns first name and last name.</b>"
   ]
  },
  {
   "cell_type": "code",
   "execution_count": 10,
   "id": "67323990",
   "metadata": {},
   "outputs": [
    {
     "name": "stdout",
     "output_type": "stream",
     "text": [
      "First Name: Parth\n",
      "Last Name: Shah\n"
     ]
    }
   ],
   "source": [
    "def test_function(y):\n",
    "    print(\"First Name: \"+y.split()[0])\n",
    "    print(\"Last Name: \"+y.split()[1])\n",
    "test_function(\"Parth Shah\")"
   ]
  },
  {
   "cell_type": "code",
   "execution_count": null,
   "id": "cdc30390",
   "metadata": {},
   "outputs": [],
   "source": []
  }
 ],
 "metadata": {
  "kernelspec": {
   "display_name": "Python 3",
   "language": "python",
   "name": "python3"
  },
  "language_info": {
   "codemirror_mode": {
    "name": "ipython",
    "version": 3
   },
   "file_extension": ".py",
   "mimetype": "text/x-python",
   "name": "python",
   "nbconvert_exporter": "python",
   "pygments_lexer": "ipython3",
   "version": "3.8.8"
  }
 },
 "nbformat": 4,
 "nbformat_minor": 5
}
