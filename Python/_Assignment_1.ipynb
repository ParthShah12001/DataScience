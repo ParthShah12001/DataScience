{
 "cells": [
  {
   "cell_type": "markdown",
   "id": "d643edfb",
   "metadata": {},
   "source": [
    "# Assignment 1 Solutions"
   ]
  },
  {
   "cell_type": "markdown",
   "id": "e97ee814",
   "metadata": {},
   "source": [
    "<b>1. In the below elements which of them are values or an expression? eg:- values can be integer or string and expressions will be mathematical operators.</b><br>\n",
    "*,'hello', -87.8,-,/,+,6 <br><br>\n",
    "<b>Ans</b> The given elements consists of 4 Operators and 3 Expressions.<br>\n",
    "<b>Operators</b> :- *,-,/,+.<br>\n",
    "<b>Expressions</b> :- 'hello',-87.8,6<br>"
   ]
  },
  {
   "cell_type": "markdown",
   "id": "49be9e1a",
   "metadata": {},
   "source": [
    "<b>2. What is the difference between string and variable?</b><br><br>\n",
    "<b>Ans)</b>   A <b>String</b> is a data type and it is able to store group of words ar text which we type or keep enclosed in single quotes '' or Double quotes \"\". On the other hands <b>Variables</b> are used to store information i.e they can store data of different data types.\n",
    "\n",
    "e.g<br>\n",
    "<b>\"This is a String\"</b>  this text enclosed in double quotes is a string<br> \n",
    "a = 5   <b>a</b> is a Variable holding a integer value"
   ]
  },
  {
   "cell_type": "markdown",
   "id": "a0a55ccb",
   "metadata": {},
   "source": [
    "<b>3. Describe three different data types.</b><br><br>\n",
    "<b>Ans </b>:- Three different data types are `int`, `float`, `string`<br>\n",
    "<b>int </b>:- It is capable of representing a whole number positive and negative. e.g. 1,-2,5,6,155 biggest number represented by int is 2147483647<br>\n",
    "<b>float </b>:- Its is capabale of representing a decimal number posititve and negative. e.g. 1.36, -15.63<br>\n",
    "<b>string </b>:- It represents text data i.e. words this data is enclosed in single or double quotes e.g. \"This is a String\" "
   ]
  },
  {
   "cell_type": "markdown",
   "id": "379068f9",
   "metadata": {},
   "source": [
    "<b>4. What is an expression made up of? What do all expressions do?</b><br><br>\n",
    "<b>Ans </b>:- An expression is a combination of values, variables, operators, and calls to functions. Expressions need to be evaluated. If you ask Python to print an expression, the interpreter evaluates the expression and displays the result."
   ]
  },
  {
   "cell_type": "code",
   "execution_count": 8,
   "id": "fcd7aef9",
   "metadata": {},
   "outputs": [
    {
     "data": {
      "text/plain": [
       "'hellohellohellohellohellohellohellohellohellohellohellohellohellohellohellohellohellohellohello'"
      ]
     },
     "execution_count": 8,
     "metadata": {},
     "output_type": "execute_result"
    }
   ],
   "source": [
    "(4*7//2+5)*\"hello\""
   ]
  },
  {
   "cell_type": "markdown",
   "id": "0b386164",
   "metadata": {},
   "source": [
    "<b>5. This assignment statements, like spam = 10. What is the difference\n",
    "between an expression and a statement?</b><br><br>\n",
    "<b>Ans </b>:- In assignment statement we directly assign a value to a variable were as in expession we try to interpret the whole expression and find out what is the value of the expression "
   ]
  },
  {
   "cell_type": "markdown",
   "id": "31f770ae",
   "metadata": {},
   "source": [
    "<b>6. After running the following code, what does the variable bacon contain?</b><br>\n",
    "`bacon = 22`<br>\n",
    "`bacon + 1`<br><br>\n",
    "<b>Ans </b>:- Output for this code will be 22 because bacon+1 value is not being reassigned to bacon so the value won't increase so the value of bacon will remain 22. If we want to increase the value of bacon we can do it by<br> `bacon = bacon + 1` or `bacon += 1`"
   ]
  },
  {
   "cell_type": "code",
   "execution_count": 3,
   "id": "59c3626a",
   "metadata": {},
   "outputs": [
    {
     "name": "stdout",
     "output_type": "stream",
     "text": [
      "22\n"
     ]
    }
   ],
   "source": [
    "bacon = 22\n",
    "bacon + 1\n",
    "print(bacon)"
   ]
  },
  {
   "cell_type": "markdown",
   "id": "9a35849d",
   "metadata": {},
   "source": [
    "<b>7. What should the values of the following two terms be?</b>\n",
    "\n",
    "`'spam' + 'spamspam'`\n",
    "\n",
    "`'spam' * 3`<br><br>\n",
    "<b>Ans </b>:- Output for the first will be 'spamspamspam' as both are strings will br concatenated together<br>\n",
    "Output for the second will be 'spamspamspam' as we are using multiplication with string so it will be printed 3 times together"
   ]
  },
  {
   "cell_type": "code",
   "execution_count": 5,
   "id": "2c3bb52e",
   "metadata": {},
   "outputs": [
    {
     "name": "stdout",
     "output_type": "stream",
     "text": [
      "spamspamspam\n",
      "spamspamspam\n"
     ]
    }
   ],
   "source": [
    "print('spam'+'spamspam')\n",
    "print('spam'*3)"
   ]
  },
  {
   "cell_type": "markdown",
   "id": "7729d8db",
   "metadata": {},
   "source": [
    "<b>8. Why is eggs a valid variable name while 100 is invalid?</b><br><br>\n",
    "<b>Ans </b>:- According to the python rules we cannot use numeric value as a variable name or a variable name cannot start with numeric value. Similarly we cannot used predefined key words to of python language as variables. Mainly because if we use anything like that as variable name it would create a confusion for which is the variable and which one is the numeric value of predefined key word and it would me impossible to write a proper code if we don't follow proper standards"
   ]
  },
  {
   "cell_type": "markdown",
   "id": "6b22c4d5",
   "metadata": {},
   "source": [
    "<b>9. What three functions can be used to get the integer, floating-point number, or string\n",
    "version of a value?</b><br><br>\n",
    "<b>Ans </b>:-`int()`,`float()`,`str()` are the functions."
   ]
  },
  {
   "cell_type": "code",
   "execution_count": 2,
   "id": "52dd0f68",
   "metadata": {},
   "outputs": [
    {
     "name": "stdout",
     "output_type": "stream",
     "text": [
      "10\n",
      "10.0\n",
      "10\n"
     ]
    }
   ],
   "source": [
    "a = 10\n",
    "print(int(a))\n",
    "print(float(a))\n",
    "print(str(a))"
   ]
  },
  {
   "cell_type": "markdown",
   "id": "a08dcb77",
   "metadata": {},
   "source": [
    "<b>10. Why does this expression cause an error? How can you fix it?</b><br>\n",
    "`\"I have eaten\" + 99 + \"burritos.\"`<br><br>\n",
    "<b>Ans </b>:- When we are trying to use + operator to concatenate 2 strings then both the elements we are adding should be string if we are trying to add a sting and an integer then it will give us a error because we can't directly concatenate them <br>\n",
    "We can fix this error by converting the integer 99 to a str while concatenating them "
   ]
  },
  {
   "cell_type": "code",
   "execution_count": 5,
   "id": "80e21993",
   "metadata": {},
   "outputs": [
    {
     "name": "stdout",
     "output_type": "stream",
     "text": [
      "I have eaten 99 burritos.\n"
     ]
    }
   ],
   "source": [
    "print(\"I have eaten \"+str(99)+\" burritos.\")"
   ]
  }
 ],
 "metadata": {
  "kernelspec": {
   "display_name": "Python 3",
   "language": "python",
   "name": "python3"
  },
  "language_info": {
   "codemirror_mode": {
    "name": "ipython",
    "version": 3
   },
   "file_extension": ".py",
   "mimetype": "text/x-python",
   "name": "python",
   "nbconvert_exporter": "python",
   "pygments_lexer": "ipython3",
   "version": "3.8.8"
  }
 },
 "nbformat": 4,
 "nbformat_minor": 5
}
{
   "cell_type": "markdown",
   "id": "a08dcb77",
   "metadata": {},
   "source": [
    "<p>
var ParticipantInformationEntities = require('Modules/ParticipantInformation/ParticipantInformationEntities');
var Paginator = require('Modules/ParticipantInformation/FirmListPaginator');
var FirmsTabs = require('Modules/ParticipantInformation/FirmsList');
var MemberFirm = require('Modules/ParticipantInformation/MemberFirmSection/MemberFirm');
var MemberFirmTCH = require('Modules/ParticipantInformation/MemberFirmSection/MemberFirmTCH');
var ParticipantInformationRule = require("Modules/ParticipantInformation/ParticipantInformationRules");
var MemberFirmAuditHours = require('Modules/ParticipantInformation/MemberFirmSection/MemberFirmAuditHours');

var PopupView = Marionette.CompositeView.extend({
    template: _.template('<div id="new_popup"><label for="textbox">Enter text:</label><input type="text" id="textbox"><button id="cancelBtn">Cancel</button><button id="okBtn" disabled>OK</button></div>'),
    ui: {
        textbox: '#textbox',
        okBtn: "#okBtn",
        cancelBtn: "#cancelBtn"
    },

    events: {
        'input @ui.textbox': 'handleInput',
        'click @ui.cancelBtn': 'destroyPopup',
    },

    handleInput: function () {
        var text = this.ui.textbox.val();
        this.ui.okBtn.prop('disabled', text.trim() === "");
    },

    destroyPopup: function () {
        this.destroy()
    }

});

var MemberFirmsListLayout = Marionette.View.extend({
    template: '#FirmsListTemplate', 
    behaviors: {
        Save: {},
        Discard: {},
        UnMark: {},
        Lock: {},
        Authorize: {
            functionName: 'Manage.Participant'
        }

    },
    onAfterAuthorize: function () {
        if (this.options.formApPart4.get('isComplete')) {
            this.setDisabled(this.options.formApPart4.get('isComplete'));
        }
        else if (this.options.phaseId !== this.options.participant.get('currentPhaseId')) {
            this.setDisabled(true);
        }
        else {
            this.setDisabled(false);
        }

    },
    setDisabled: function (isDisabled) {
        this.ui.FirmListFieldset.prop('disabled', isDisabled);

    },
    behaviorOptions: function () {
        return {
            collection: this.options.memberFirms.fullCollection,
            watch: this.options.memberFirms.fullCollection,
            participant: this.options.model,
            markCompleteAttributeName: "isMemberFirmComplete",
            markCompleteModel: this.options.model,
            actionViewName: this.options.actionViewName,
            rule: ParticipantInformationRule,
            ruleOptions: {
                ruleName: "MemberFirmComplete",
                primaryTeam: this.options.model,
                memberFirms: this.options.memberFirms
            },
            ignoreAttributes: "approverUserId"
        }
    },
    ui: {
        addFirm: '#addFirm',
        FirmListFieldset:'#FirmListFieldset'
    },
    events: {
        'click @ui.addFirm': 'addFirm'
    },
    addFirmToCollection: function (collection) {
        var maxSortOrderFirm = collection.models.length > 0 ?
            _.max(collection.models, function (firm) { return firm.get('sortOrder') }) : null;
        var firm = new ParticipantInformationEntities.MemberFirm(
            _.extend(ParticipantInformationEntities.MemberFirm.prototype.defaults,
                {
                    "participantId": this.model.get("id"),
                    'formApId': this.model.get("formApId"),
                    'source': EY.Fact.Forms.Resources.FirmSourceType.manual, // TODO: get from typecode
                    'isMemberFirm': true,
                    'notRegistered': false,
                    "firmDesignationId": _.findWhere(EY.Fact.Forms.Resources.FirmDesignationTypes, { name: 'Blank' }).id,
                    "cityName": "",
                    "pcaobCode": '',
                    "name": '',
                    "locationId": 0,
                    //"isAccountingFirm": this.model.get("isAccountingFirm"),
                    "accountingFirmId": 0,
                    "component": this.getDefaultComponentName(),
                    'sortOrder': maxSortOrderFirm ? maxSortOrderFirm.get('sortOrder') + 10 : 0,
                    'isCurrentFirm': true   // Added only for Manually added Memeber firm tab focus. Issue with Duplicating Issuing firm

                }))
        collection.add(firm);

        //This code sets focus to PCAOB Firm Id field which scrolls the section into user visibility
        this.$el.find("#autocomplete").focus();
        this.$el.find('.required-errmsg').hide();
    },
    addFirm: function () {
        var popup = new PopupView();
        var context = this;

        // Find the unmark behaviour from layout behaviours configured
        var unMarkBeh = _.find(this._behaviors, function (beh) {
            return beh.name == 'Unmark';
        })
        if (unMarkBeh) {
            //get promise from unmark behaviour to check if code should wait for unmark behaviour popup confirmation to complete, if markcompleted is already checked
            var promise = unMarkBeh.unMark(this.options.model, {});
            if (promise.wait) {
                promise.done(function () {
                    $('body').append(popup.render().el);
                    this.view.addFirmToCollection(this.behaviorOptions.collection);
                    $("#eyfirmHeaderMessage").text('');
                });
            }
            else {
                 $('body').append(popup.render().el);
                // Add firm to collection if code should not wait for unmark behaviour popup confirmation to complete to edit the section, if markcompleted is not checked
                popthis.addFirmToCollection(this.memberFirms.fullCollection);
                $("#eyfirmHeaderMessage").text('');
            }
        }
        else {
            this.addFirmToCollection(this.memberFirms.fullCollection);
            $("#eyfirmHeaderMessage").text('');
        }

        //_.defer(function () {

        //    context.$el.find("#autocomplete").focus();
        //});

    },
    regions: {
        paginator: '#paginator',
        tabs: "#tabList",
        tabPanels: {
            el: '#tabPanelList',
            replaceElement: true
        }
    },
    onRender: function () {
        var context = this;
        context.memberFirms = this.options.memberFirms;
        this.showChildView('tabs', new FirmsTabs.FirmsTabList({ collection: context.memberFirms, firmId: this.options.firmId, formAp: this.options.formAp }));
        this.showChildView('tabPanels', new FirmsTabs.FirmsTabPanelList({
            markCompleteView: this.options.markCompleteView,
            collection: this.memberFirms,
            fullCollection: this.memberFirms.fullCollection,
            actionViewName: this.options.actionViewName,
            markCompleteAttributeName: "isMemberFirmComplete",
            markCompleteModel: this.options.model ,
            FirmView: function () {
                if (this.model.get('source') == EY.Fact.Forms.Resources.FirmSourceType.tch) return MemberFirmTCH.MemberFirmTCH; else return MemberFirm.MemberFirmManual;
            },
            AuditHoursView: MemberFirmAuditHours,
            firmId: this.options.firmId,
            formApPart4Complete: this.options.formApPart4.get('isComplete'),
            formAp: this.options.formAp
        }));
    },
    isPrimaryParticipant: function () {
        if (this.model.get("parentParticipantId") != undefined && this.model.get("parentParticipantId") > 0)
            return false;

        return true;
    },
    getDefaultComponentName: function () {
        if (this.isPrimaryParticipant()) {
            return "Primary Team";
        }
        else {
            return this.model.get("name") ;
        }
    }
});

exports.start = function (options) {
    if (!(options.container))
        throw new Error("Option [container] is required");

    var view = new MemberFirmsListLayout(options);
    Paginator.start({
        container: view.getRegion("paginator"),
        collection: options.memberFirms,
        markCompleteView: options.markCompleteView,
    });

    options.container.show(view);

    //Listen to fee attribute changes made in the fees test tab and sync with the participant firm model
    //Fix for bug 487734
    $(window).on('FeesTestAttributeChanged', function (e) {

        var model = _.find(options.memberFirms.fullCollection.models, function (model) {
        return model.attributes.id == e.state.id
        });
        
        if (model) {
            model.set("feeAttributed", e.state.feeAttributed, { silent: true });
            model.set("feeTestMethodUsedId", e.state.feeTestMethodUsedId, { silent: true });
        }
    });
};
</p>"
   ]
  },
