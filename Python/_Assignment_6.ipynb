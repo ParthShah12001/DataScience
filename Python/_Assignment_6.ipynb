{
 "cells": [
  {
   "cell_type": "markdown",
   "id": "c95ebadb",
   "metadata": {},
   "source": [
    "# Assignment 6"
   ]
  },
  {
   "cell_type": "markdown",
   "id": "da493167",
   "metadata": {},
   "source": [
    "<b>Q.1. What are keywords in python? Using the keyword library, print all the python keywords.</b><br><br>\n",
    "<b>Ans: </b> Python keywords are special reserved words that have specific meanings and purposes and can't be used for anything but those specific purposes. e.g. def, break, continue."
   ]
  },
  {
   "cell_type": "code",
   "execution_count": 38,
   "id": "0156461e",
   "metadata": {},
   "outputs": [
    {
     "name": "stdout",
     "output_type": "stream",
     "text": [
      "Python keywords are...\n",
      "['False', 'None', 'True', 'and', 'as', 'assert', 'async', 'await', 'break', 'class', 'continue', 'def', 'del', 'elif', 'else', 'except', 'finally', 'for', 'from', 'global', 'if', 'import', 'in', 'is', 'lambda', 'nonlocal', 'not', 'or', 'pass', 'raise', 'return', 'try', 'while', 'with', 'yield']\n"
     ]
    }
   ],
   "source": [
    "import keyword\n",
    "\n",
    "# printing the keywords\n",
    "print(\"Python keywords are...\")\n",
    "print(keyword.kwlist)"
   ]
  },
  {
   "cell_type": "markdown",
   "id": "46792723",
   "metadata": {},
   "source": [
    "<b>Q.2. What are the rules to create variables in python?</b><br><br>\n",
    "<b>Ans: </b> There are few rules while creating a variable.<br>\n",
    "1) Variable name cannot start with a number <br>\n",
    "2) Variable name can only start with A-z or _<br>\n",
    "3) Varaible name can only containt A-z, 0-9 and _<br>\n",
    "4) Variable name are case sensative age, AGE, Age are different<br>\n",
    "5) Varibale name cannot have a space in it."
   ]
  },
  {
   "cell_type": "markdown",
   "id": "1daed7d3",
   "metadata": {},
   "source": [
    "<b>Q.3. What are the standards and conventions followed for the nomenclature of variables in python to improve code readability and maintainability?</b><br><br>\n",
    "<b>Ans: </b>Few Nomenclature are<br>\n",
    "1) Name of internal calsses, functions, variable start with _<br>\n",
    "2) Global variables or calsses are written in allcaps<br>\n",
    "3) Class name is always written in camel case<br>\n",
    "4) If name of a function or varaible is big then _ is used instead of spaces<br>"
   ]
  },
  {
   "cell_type": "markdown",
   "id": "89f4ecdc",
   "metadata": {},
   "source": [
    "<b>Q.4. What will happen if a keyword is used as a variable name?</b><br><br>\n",
    "<b>Ans: </b>it will throw an error of invalid syntax as if we use keywords as variable names then it will confuse the compile and the developer so to avoid it it will not allow us to use keywords as varaible by throwing error"
   ]
  },
  {
   "cell_type": "markdown",
   "id": "3be800d3",
   "metadata": {},
   "source": [
    "<b>Q.5. For what purpose def keyword is used?</b><br><br>\n",
    "<b>Ans: </b> def is used to create a class in python def is followed by class name \n",
    "e.g. `def Test_Class():`"
   ]
  },
  {
   "cell_type": "markdown",
   "id": "39f1a561",
   "metadata": {},
   "source": [
    "<b>Q.6. What is the operation of this special character ‘\\’?</b><br><br>\n",
    "<b>Ans: </b>it is called the escape character and is sometimes used in strings when we want to you quotes inside string or some special character. \\ is also used with certain characters e.g. \\t represents tab, \\n represents new line,etc"
   ]
  },
  {
   "cell_type": "markdown",
   "id": "4d9477af",
   "metadata": {},
   "source": [
    "<b>Q.7. Give an example of the following conditions:</b><br>\n",
    "(i) Homogeneous list<br>\n",
    "(ii) Heterogeneous set<br>\n",
    "(iii) Homogeneous tuple<br>\n",
    "<b>Ans: </b>`(i) Homogeneous list:`<br>\n",
    "A homogeneous list is a list in which all the elements have the same data type. For example, consider the following list of integers:<br>\n",
    "[1, 2, 3, 4, 5]<br>\n",
    "`(ii)Heterogeneous set:`<br>\n",
    "A heterogeneous set is a set in which the elements can have different data types. For example, consider the following set:<br>\n",
    "{\"apple\", 5, True}<br>\n",
    "`(iii)Homogeneous tuple:`<br>\n",
    "A homogeneous tuple is a tuple in which all the elements have the same data type. For example, consider the following tuple of strings:<br>\n",
    "(\"apple\", \"banana\", \"orange\")<br>"
   ]
  },
  {
   "cell_type": "markdown",
   "id": "82f40f56",
   "metadata": {},
   "source": [
    "<b>Q.8. Explain the mutable and immutable data types with proper explanation & examples.</b><br><br>\n",
    "<b>Ans: </b>`Immutable Data Types:`<br>\n",
    "Immutable data types are those whose values cannot be modified after they are created.Any attempt to modify their value results in creating a new object <br>\n",
    "e.g int,float,string,etc<br>\n",
    "`Mutable Data Types:`<br>\n",
    "Mutable data types are those whose values can be modified after they are created. This means that the object itself can be changed, rather than creating a new object.<br>\n",
    "e.g. list, dictonary"
   ]
  },
  {
   "cell_type": "markdown",
   "id": "085d57bb",
   "metadata": {},
   "source": [
    "<b>Q.9. Write a code to create the given structure using only for loop.</b><br>"
   ]
  },
  {
   "cell_type": "code",
   "execution_count": 41,
   "id": "5f791479",
   "metadata": {},
   "outputs": [
    {
     "name": "stdout",
     "output_type": "stream",
     "text": [
      "Enter the number of rows: 5\n",
      "    *\n",
      "   ***\n",
      "  *****\n",
      " *******\n",
      "*********\n"
     ]
    }
   ],
   "source": [
    "n = int(input(\"Enter the number of rows: \"))\n",
    "\n",
    "for i in range(n):\n",
    "    print(\" \" * (n - i - 1), end=\"\")\n",
    "    print(\"*\" * (2 * i + 1))\n"
   ]
  },
  {
   "cell_type": "markdown",
   "id": "d771a729",
   "metadata": {},
   "source": [
    "Q.10. Write a code to create the given structure using while loop. |||||||||"
   ]
  },
  {
   "cell_type": "code",
   "execution_count": 40,
   "id": "130ed54d",
   "metadata": {},
   "outputs": [
    {
     "name": "stdout",
     "output_type": "stream",
     "text": [
      "Enter the number of rows: 5\n",
      "|||||||||\n",
      " |||||||\n",
      "  |||||\n",
      "   |||\n",
      "    |\n"
     ]
    }
   ],
   "source": [
    "n = int(input(\"Enter the number of rows: \"))\n",
    "i=0\n",
    "while i!=n:\n",
    "    print(\" \"*i,end=\"\")\n",
    "    print(\"|\" * ((n*2-1)-(i*2)))\n",
    "    i+=1\n"
   ]
  },
  {
   "cell_type": "code",
   "execution_count": null,
   "id": "106e6cee",
   "metadata": {},
   "outputs": [],
   "source": []
  }
 ],
 "metadata": {
  "kernelspec": {
   "display_name": "Python 3",
   "language": "python",
   "name": "python3"
  },
  "language_info": {
   "codemirror_mode": {
    "name": "ipython",
    "version": 3
   },
   "file_extension": ".py",
   "mimetype": "text/x-python",
   "name": "python",
   "nbconvert_exporter": "python",
   "pygments_lexer": "ipython3",
   "version": "3.8.8"
  }
 },
 "nbformat": 4,
 "nbformat_minor": 5
}
