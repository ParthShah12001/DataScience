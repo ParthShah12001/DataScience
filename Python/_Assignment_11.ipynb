{
 "cells": [
  {
   "cell_type": "markdown",
   "id": "76eb19cd",
   "metadata": {},
   "source": [
    "# Assignment 11 Solution"
   ]
  },
  {
   "cell_type": "markdown",
   "id": "ffa5f0f7",
   "metadata": {},
   "source": [
    "<b>1. What is a lambda function in Python, and how does it differ from a regular function</b><br><br>\n",
    "<b>Ans: </b> Lambda function are also called as inline functions. Funcationality of a lambda function is similar to a regular function but like the declaration and syntax of it is different. We have to declare a regular function and then make a call to that function in order to make it work but on the other hand lambda functions are just to declared in the same line where its funcanality is need and it will work. Lambda function are mainly used when you want to make the function small task but when we have to write a function with lot of functionalities which performs a lot of task on the data or varibale we pass to it then we cannot use lambda function we have to go ahead and use regular functions."
   ]
  },
  {
   "cell_type": "markdown",
   "id": "be809a81",
   "metadata": {},
   "source": [
    "<b>2. Can a lambda function in Python have multiple arguments? If yes, how can you define and use them?</b><br><br>\n",
    "<b>Ans: </b> <b>Yes, </b>we can pass multiple varaibales to a lambda function here is an example of it"
   ]
  },
  {
   "cell_type": "code",
   "execution_count": 4,
   "id": "d2205d7a",
   "metadata": {},
   "outputs": [
    {
     "name": "stdout",
     "output_type": "stream",
     "text": [
      "8\n"
     ]
    }
   ],
   "source": [
    "add_function = lambda x,y:x+y\n",
    "\n",
    "print(add_function(3,5))"
   ]
  },
  {
   "cell_type": "markdown",
   "id": "5cf0b5b8",
   "metadata": {},
   "source": [
    "<b>3. How are lambda functions typically used in Python? Provide an example use case.</b><br><br>\n",
    "<b>Ans: </b>Lambda functions are typically used in Python for situations where you need a small, anonymous function without the need for a formal function definition. They are commonly used in functional programming paradigms, as well as in situations where you need a quick, one-time function."
   ]
  },
  {
   "cell_type": "code",
   "execution_count": 6,
   "id": "167620d8",
   "metadata": {},
   "outputs": [
    {
     "name": "stdout",
     "output_type": "stream",
     "text": [
      "Even\n"
     ]
    }
   ],
   "source": [
    "test_function = lambda x:\"Even\" if x%2==0 else \"Odd\"\n",
    "print(test_function(4))"
   ]
  },
  {
   "cell_type": "markdown",
   "id": "3f91a1c6",
   "metadata": {},
   "source": [
    "<b>4. What are the advantages and limitations of lambda functions compared to regular functions in Python?</b><br><br>\n",
    "<b>Ans: </b><b>Advantages</b><br>\n",
    "1.These are anonymous function to we dont have to follow all the function declaration and all syntax.<br>\n",
    "2.It is compact way to declare small functions instead of declaring a whole new regular functions<br>\n",
    "<b>Disadvantages</b><br>\n",
    "1.They are difficult to read<br>\n",
    "2.They are difficult to debug<br>\n",
    "3.It gets difficult when we try to pass more and more variables<br>\n"
   ]
  },
  {
   "cell_type": "markdown",
   "id": "4ced8031",
   "metadata": {},
   "source": [
    "<b>5. Are lambda functions in Python able to access variables defined outside of their own scope? Explain with an example.</b><br><br>\n",
    "<b>Ans: </b>Yes, lambda functions in Python can access variables defined outside of their own scope. This is achieved through lexical scoping or closures. When a lambda function is defined, it retains access to variables in its enclosing scope, even after the enclosing scope has finished executing. Here's an example to illustrate this concept:"
   ]
  },
  {
   "cell_type": "code",
   "execution_count": 8,
   "id": "b90c3989",
   "metadata": {},
   "outputs": [
    {
     "name": "stdout",
     "output_type": "stream",
     "text": [
      "Hello, Alice\n",
      "Hello, Bob\n"
     ]
    }
   ],
   "source": [
    "def outer_function():\n",
    "    message = 'Hello'\n",
    "\n",
    "    greet = lambda name: message + ', ' + name\n",
    "\n",
    "    return greet\n",
    "\n",
    "greeting = outer_function()\n",
    "\n",
    "print(greeting('Alice'))  \n",
    "print(greeting('Bob'))   "
   ]
  },
  {
   "cell_type": "markdown",
   "id": "a88bddc4",
   "metadata": {},
   "source": [
    "<b>6. Write a lambda function to calculate the square of a given number.</b><br><br>"
   ]
  },
  {
   "cell_type": "code",
   "execution_count": 9,
   "id": "c11c61c0",
   "metadata": {},
   "outputs": [
    {
     "name": "stdout",
     "output_type": "stream",
     "text": [
      "25\n"
     ]
    }
   ],
   "source": [
    "square_function = lambda x: x*x\n",
    "print(square_function(5))"
   ]
  },
  {
   "cell_type": "markdown",
   "id": "7d384296",
   "metadata": {},
   "source": [
    "<b>7. Create a lambda function to find the maximum value in a list of integers.</b><br><br>"
   ]
  },
  {
   "cell_type": "code",
   "execution_count": 11,
   "id": "8bf8c2cf",
   "metadata": {},
   "outputs": [
    {
     "name": "stdout",
     "output_type": "stream",
     "text": [
      "9\n"
     ]
    }
   ],
   "source": [
    "max_list = lambda x : max(x)\n",
    "print(max_list([1,2,3,4,5,6,7,8,9]))"
   ]
  },
  {
   "cell_type": "markdown",
   "id": "a6a35252",
   "metadata": {},
   "source": [
    "<b>8. Implement a lambda function to filter out all the even numbers from a list of integers.</b>"
   ]
  },
  {
   "cell_type": "code",
   "execution_count": 15,
   "id": "e1c77680",
   "metadata": {},
   "outputs": [
    {
     "name": "stdout",
     "output_type": "stream",
     "text": [
      "[2, 4, 6, 8]\n"
     ]
    }
   ],
   "source": [
    "x= [1,2,3,4,5,6,7,8,9]\n",
    "test_function = list(filter(lambda x:x%2==0,x))\n",
    "print(test_function)"
   ]
  },
  {
   "cell_type": "markdown",
   "id": "308d62c8",
   "metadata": {},
   "source": [
    "<b>9.Write a lambda function to sort a list of strings in ascending order based on the length of each string.</b><br><br>"
   ]
  },
  {
   "cell_type": "code",
   "execution_count": 74,
   "id": "6d34b3cc",
   "metadata": {},
   "outputs": [
    {
     "name": "stdout",
     "output_type": "stream",
     "text": [
      "['date', 'apple', 'banana', 'cherry', 'elderberry']\n"
     ]
    }
   ],
   "source": [
    "strings = ['apple', 'banana', 'cherry', 'date', 'elderberry']\n",
    "\n",
    "lst = sorted(strings,key=lambda x:len(x))\n",
    "print(lst)"
   ]
  },
  {
   "cell_type": "markdown",
   "id": "83bbcc29",
   "metadata": {},
   "source": [
    "<b>10. Create a lambda function that takes two lists as input and returns a new list containing the common elements between the two lists.</b><br><br>"
   ]
  },
  {
   "cell_type": "code",
   "execution_count": 51,
   "id": "ef789435",
   "metadata": {},
   "outputs": [
    {
     "name": "stdout",
     "output_type": "stream",
     "text": [
      "[4, 5, 6]\n"
     ]
    }
   ],
   "source": [
    "x = [1,2,3,4,5,6]\n",
    "y = [4,5,6,7,8,9]\n",
    "print(list(filter(lambda x : x in y, x )))"
   ]
  },
  {
   "cell_type": "markdown",
   "id": "de65da02",
   "metadata": {},
   "source": [
    "<b> 11. Write a recursive function to calculate the factorial of a given positive integer</b><br><br>"
   ]
  },
  {
   "cell_type": "code",
   "execution_count": 53,
   "id": "c2f94d1c",
   "metadata": {},
   "outputs": [
    {
     "name": "stdout",
     "output_type": "stream",
     "text": [
      "720\n"
     ]
    }
   ],
   "source": [
    "def factorial(x):\n",
    "    if x == 1:\n",
    "        return 1\n",
    "    else:\n",
    "        return x * factorial(x-1)\n",
    "print(factorial(6))"
   ]
  },
  {
   "cell_type": "markdown",
   "id": "c641f6b4",
   "metadata": {},
   "source": [
    "<b>12. Implement a recursive function to compute the nth Fibonacci number.</b>"
   ]
  },
  {
   "cell_type": "code",
   "execution_count": 70,
   "id": "c3458853",
   "metadata": {},
   "outputs": [
    {
     "name": "stdout",
     "output_type": "stream",
     "text": [
      "5\n"
     ]
    }
   ],
   "source": [
    "def fibonacci(x,n):\n",
    "    if n == 0:\n",
    "        return x\n",
    "    else:\n",
    "        x.append(x[-1]+x[-2])\n",
    "        return  fibonacci(x,n-1)\n",
    "x = [0,1]\n",
    "n = 5\n",
    "print(fibonacci(x,n)[n])"
   ]
  },
  {
   "cell_type": "markdown",
   "id": "a4f0c989",
   "metadata": {},
   "source": [
    "<b>13. Create a recursive function to find the sum of all the elements in a given list.</b>"
   ]
  },
  {
   "cell_type": "code",
   "execution_count": 56,
   "id": "45187a9e",
   "metadata": {},
   "outputs": [
    {
     "name": "stdout",
     "output_type": "stream",
     "text": [
      "[45]\n"
     ]
    }
   ],
   "source": [
    "x = [1,2,3,4,5,6,7,8,9]\n",
    "def total_sum(x):\n",
    "    if len(x) == 1:\n",
    "        return x\n",
    "    else:\n",
    "        s = x[-1]+x[-2]\n",
    "        x.pop()\n",
    "        x.pop()\n",
    "        x.append(s)\n",
    "        return total_sum(x)\n",
    "        \n",
    "print(total_sum(x))"
   ]
  },
  {
   "cell_type": "code",
   "execution_count": 41,
   "id": "da2443bd",
   "metadata": {},
   "outputs": [
    {
     "name": "stdout",
     "output_type": "stream",
     "text": [
      "45\n"
     ]
    }
   ],
   "source": [
    "def tot_sum(x):\n",
    "    if len(x) == 0:\n",
    "        return 0\n",
    "    else:\n",
    "        return x[0] + tot_sum(x[1:])\n",
    "    \n",
    "x = [1,2,3,4,5,6,7,8,9]\n",
    "print(tot_sum(x))"
   ]
  },
  {
   "cell_type": "markdown",
   "id": "0fb934a6",
   "metadata": {},
   "source": [
    "<b>14. Write a recursive function to determine whether a given string is a palindrome.</b>"
   ]
  },
  {
   "cell_type": "code",
   "execution_count": 46,
   "id": "a43abf4d",
   "metadata": {},
   "outputs": [
    {
     "name": "stdout",
     "output_type": "stream",
     "text": [
      "Yes\n"
     ]
    }
   ],
   "source": [
    "def palindrome(x):\n",
    "    if len(x) == 0:\n",
    "        return \"\"\n",
    "    else:\n",
    "        return x[-1] + palindrome(x[:-1])\n",
    "\n",
    "x = \"dod\"\n",
    "y = palindrome(x)\n",
    "if(x == y):\n",
    "    print(\"Yes\")\n",
    "else:\n",
    "    print(\"No\")"
   ]
  },
  {
   "cell_type": "markdown",
   "id": "8a6296ab",
   "metadata": {},
   "source": [
    "<b>15. Write a recursive code to find GCD of 2 numbers</b>"
   ]
  },
  {
   "cell_type": "code",
   "execution_count": 77,
   "id": "8e366d0c",
   "metadata": {},
   "outputs": [
    {
     "name": "stdout",
     "output_type": "stream",
     "text": [
      "12\n"
     ]
    }
   ],
   "source": [
    "def gcd_recursive(a, b):\n",
    "    if b == 0:\n",
    "        return a\n",
    "    else:\n",
    "        return gcd_recursive(b, a % b)\n",
    "\n",
    "num1 = 48\n",
    "num2 = 36\n",
    "result = gcd_recursive(num1, num2)\n",
    "print(result)\n"
   ]
  },
  {
   "cell_type": "code",
   "execution_count": null,
   "id": "4149e44f",
   "metadata": {},
   "outputs": [],
   "source": []
  }
 ],
 "metadata": {
  "kernelspec": {
   "display_name": "Python 3",
   "language": "python",
   "name": "python3"
  },
  "language_info": {
   "codemirror_mode": {
    "name": "ipython",
    "version": 3
   },
   "file_extension": ".py",
   "mimetype": "text/x-python",
   "name": "python",
   "nbconvert_exporter": "python",
   "pygments_lexer": "ipython3",
   "version": "3.8.8"
  }
 },
 "nbformat": 4,
 "nbformat_minor": 5
}
