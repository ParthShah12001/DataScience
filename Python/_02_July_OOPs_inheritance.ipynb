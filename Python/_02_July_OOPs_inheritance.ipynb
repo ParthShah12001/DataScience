{
 "cells": [
  {
   "cell_type": "markdown",
   "id": "112568fa-ecaf-417e-80fc-22e7ad228952",
   "metadata": {},
   "source": [
    "# _02_July_OOps__inheritance Solution"
   ]
  },
  {
   "cell_type": "markdown",
   "id": "879310c5",
   "metadata": {},
   "source": [
    "<b>1. Explain what inheritance is in object-oriented programming and why it is used.</b><br><br>\n",
    "<b>Ans: </b>In `Inheritance` their are 2 class 1 is parent class and other is child class. The child class extends the parent class. Now in inheritance the child class has all the method and properties of the parent class it basically inherits everything from the parent class and it also has it own methods and properties if any. We can access and use the methods of parent class from child class but we cannot access and use methods of child class from the parent class. When we are using inheritance and trying to get all the parent class methods to child class we use `super.__init__()` method to get all the initialized variables and methods. To give a small example of inheritance \"We inherit wealth from our parents the same way the inheritance in python works\""
   ]
  },
  {
   "cell_type": "markdown",
   "id": "876df664",
   "metadata": {},
   "source": [
    "<b>2.Discuss the concept of single inheritance and multiple inheritance, highlighting their differences and advantages.</b><br><br>\n",
    "<b>Ans: </b>When we try to inhert only one parent class in the child class it is called single inheritance. When we try to inherit 2 different parent classes in a single child class it is called multiple inheritance their is no major difference between single inheritance and nultiple inheritance except the way of inheriting them in the child class. When we are use `super()__init()` in the child class it will inherit the first parent as per the position adn then we will have to import the second parent class after that `parent2.__init(self,)`. One disadvantage of multiple inheritance is difficulting in coding if both the parent has same method then it would be difficult to code plus it make it difficult to understand and write the code while on the seconf hand in single inheritance it is easire to do the same."
   ]
  },
  {
   "cell_type": "code",
   "execution_count": 17,
   "id": "3e1f98a3",
   "metadata": {},
   "outputs": [
    {
     "name": "stdout",
     "output_type": "stream",
     "text": [
      "Bike BMW\n"
     ]
    }
   ],
   "source": [
    "class parent1:\n",
    "    def __init__(self,car):\n",
    "        self.car = car\n",
    "    def displayCar(self):\n",
    "        print(f\"Car {self.car}\")\n",
    "class parent2:\n",
    "    def __init__(self,bike):\n",
    "        self.bike = bike\n",
    "    def displayBike(self):\n",
    "        print(f\"Bike {self.bike}\")\n",
    "class child(parent1,parent2):\n",
    "    def __init__(self,car,bike):\n",
    "        super().__init__(car)\n",
    "        parent2.__init__(self,bike)\n",
    "obj = child(\"Audi\",\"BMW\")\n",
    "obj.displayBike()"
   ]
  },
  {
   "cell_type": "markdown",
   "id": "59b6ed49",
   "metadata": {},
   "source": [
    "<b>3. Explain the terms \"base class\" and \"derived class\" in the context of inheritance.</b><br><br>\n",
    "<b>Ans: </b>`base class` is also know as parent class of super class.`derived class` is also know as child class it inherites the base class and its methods."
   ]
  },
  {
   "cell_type": "markdown",
   "id": "a871c01b",
   "metadata": {},
   "source": [
    "<b>4. What is the significance of the \"protected\" access modifier in inheritance? How does it differ from \"private\" and \"public\" modifiers?</b><br><br>\n",
    "    <b>Ans: </b> Access modifiers in python are not as stricts as they are in Java so we need to be careful while using them and accessing them because even thod we can access varaibles directly we should not do that when they are declared with certain access modifiers.<br><br>\n",
    "`public: ` this access modifier means that variables or methods are available directly from anywhere and they dont restrict any kind of access<br><br>\n",
    "`protected: `this access modifier means that the variables and methods are available only in the class in which they are declared or in the child class and we should not acess them directly from outside. We can access them from outside only by using public methods declared in the classes to access them. protected methods are declared with `_` before the actual name e.g. `_protectedMethod`. In inheritance when we are trying to access protected method in child class we should always use it via public method declared in the parent class and not directly but we can directly access protected attributes in the child class.<br><br>\n",
    "`private: ` this access modifier mean that varaibles and methods are available only in the class in which they are declared and they cannot be accessed directly from outside the class its illegal. We can only access them via public methods declared to access them in the class in which they are declared if we are trying to access them from outside the class. We declare the private variables with 2 underscores before the actual name `__privateMethod`\n"
   ]
  },
  {
   "cell_type": "code",
   "execution_count": 20,
   "id": "fa6a5ffc",
   "metadata": {},
   "outputs": [
    {
     "name": "stdout",
     "output_type": "stream",
     "text": [
      "New method 42\n"
     ]
    }
   ],
   "source": [
    "class MyBaseClass:\n",
    "    def __init__(self):\n",
    "        self._protected_attr = 42\n",
    "    \n",
    "    def _protected_method(self):\n",
    "        print(\"This is a protected method.\")\n",
    "\n",
    "    def public_method(self):\n",
    "        print(\"This is a public method.\")\n",
    "        self._protected_method()\n",
    "\n",
    "\n",
    "class MyDerivedClass(MyBaseClass):\n",
    "    def __init__(self):\n",
    "        super().__init__()\n",
    "    \n",
    "    def derived_method(self):\n",
    "        print(\"This is a method in the derived class.\")\n",
    "        self.public_method()\n",
    "        print(\"Accessing protected attribute:\", self._protected_attr)\n",
    "\n",
    "\n",
    "# Correct way: Using protected members within the class hierarchy\n",
    "obj = MyDerivedClass()\n",
    "obj.public_method()\n",
    "obj.derived_method()\n",
    "\n",
    "\n",
    "# Incorrect way: Accessing protected members directly from outside the class hierarchy\n",
    "#obj = MyBaseClass()\n",
    "#obj._protected_attr  # Accessing protected attribute directly (discouraged)\n",
    "#obj._protected_method()  # Calling protected method directly (discouraged)\n"
   ]
  },
  {
   "cell_type": "code",
   "execution_count": 21,
   "id": "77e1f6d8",
   "metadata": {},
   "outputs": [
    {
     "name": "stdout",
     "output_type": "stream",
     "text": [
      "This is a public method.\n",
      "This is a private method.\n"
     ]
    }
   ],
   "source": [
    "class MyClass:\n",
    "    def __init__(self):\n",
    "        self.__private_attr = 42\n",
    "    \n",
    "    def __private_method(self):\n",
    "        print(\"This is a private method.\")\n",
    "    \n",
    "    def public_method(self):\n",
    "        print(\"This is a public method.\")\n",
    "        self.__private_method()\n",
    "\n",
    "\n",
    "# Creating an instance of MyClass\n",
    "obj = MyClass()\n",
    "\n",
    "# Calling the public method\n",
    "obj.public_method()\n"
   ]
  },
  {
   "cell_type": "markdown",
   "id": "5458f01d",
   "metadata": {},
   "source": [
    "<b>5. What is the purpose of the \"super\" keyword in inheritance? Provide an example.</b><br><br>\n",
    "<b>Ans: </b>The super keyword is used to inherite all the methods and variables from the parent class into the child class. it provides a way to call and access all the parent methods and variables with in the child class.The primary purpose of the \"super\" keyword is to facilitate code reusability and enable the child class to inherit and extend the functionality of the parent class."
   ]
  },
  {
   "cell_type": "code",
   "execution_count": 24,
   "id": "1c914792",
   "metadata": {},
   "outputs": [
    {
     "name": "stdout",
     "output_type": "stream",
     "text": [
      "My name is Parth\n",
      "My last name is Shah\n"
     ]
    }
   ],
   "source": [
    "class Parent:\n",
    "    def __init__(self,name):\n",
    "        self.name = name\n",
    "    def display_name(self):\n",
    "        print(f\"My name is {self.name}\")\n",
    "        \n",
    "class child(Parent):\n",
    "    def __init__(self,name,lastname):\n",
    "        super().__init__(name)\n",
    "        self.lastname = lastname\n",
    "    def display_lastname(self):\n",
    "        print(f\"My last name is {self.lastname}\")\n",
    "        \n",
    "obj = child(\"Parth\",\"Shah\")\n",
    "obj.display_name()\n",
    "obj.display_lastname()"
   ]
  },
  {
   "cell_type": "markdown",
   "id": "58b215de",
   "metadata": {},
   "source": [
    "<b>6. Create a base class called \"Vehicle\" with attributes like \"make\", \"model\", and \"year\". Then, create a derived class called \"Car\" that inherits from \"Vehicle\" and adds an attribute called \"fuel_type\". Implement appropriate methods in both classes.</b>"
   ]
  },
  {
   "cell_type": "code",
   "execution_count": 29,
   "id": "60b6e012",
   "metadata": {},
   "outputs": [
    {
     "name": "stdout",
     "output_type": "stream",
     "text": [
      "Fuel type is Desiel\n"
     ]
    }
   ],
   "source": [
    "class Vehicle:\n",
    "    def __init__(self,make,model,year):\n",
    "        self.make = make\n",
    "        self.model = model\n",
    "        self.year = year\n",
    "    def display_vehicle(self):\n",
    "        print(f\"\"\"Vehicle is made by {self.make}\n",
    "        it is a {self.model}\n",
    "        made in {self.year}\"\"\")\n",
    "        \n",
    "class Car(Vehicle):\n",
    "    def __init__(self,make,model,year,fuel_type):\n",
    "        super().__init__(make,model,year)\n",
    "        self.fuel_type = fuel_type\n",
    "    \n",
    "    def display_car(self):\n",
    "        print(f\"Fuel type is {self.fuel_type}\")\n",
    "        \n",
    "obj = Car(\"Audi\",\"R8\",\"2020\",\"Desiel\")\n",
    "obj.display_car()"
   ]
  },
  {
   "cell_type": "markdown",
   "id": "d93604ed",
   "metadata": {},
   "source": [
    "<b>7. Create a base class called \"Employee\" with attributes like \"name\" and \"salary.\" Derive two classes, \"Manager\" and \"Developer,\" from \"Employee.\" Add an additional attribute called \"department\" for the \"Manager\" class and \"programming_language\" for the \"Developer\" class.</b>"
   ]
  },
  {
   "cell_type": "code",
   "execution_count": 35,
   "id": "4b9919bb",
   "metadata": {},
   "outputs": [
    {
     "name": "stdout",
     "output_type": "stream",
     "text": [
      "Manager name is parth\n",
      "he is manager of Data Science\n",
      "with a salary of 200000000\n",
      "Update successfull\n"
     ]
    }
   ],
   "source": [
    "class Employee:\n",
    "    def __init__(self,name,salary):\n",
    "        self.name = name\n",
    "        self.salary = salary\n",
    "    \n",
    "    def update_salary(self,salary):\n",
    "        self.salary = salary\n",
    "        print(\"Update successfull\")\n",
    "        \n",
    "class Manager(Employee):\n",
    "    def __init__(self,name,salary,department):\n",
    "        super().__init__(name,salary)\n",
    "        self.department = department\n",
    "    \n",
    "    def display(self):\n",
    "        print(f\"\"\"Manager name is {self.name}\n",
    "he is manager of {self.department}\n",
    "with a salary of {self.salary}\"\"\")\n",
    "        \n",
    "class Developer(Employee):\n",
    "    def __init__(self,name,salary,programming_language):\n",
    "        super().__init__(name,salary)\n",
    "        self.programming_language = programming_language\n",
    "        \n",
    "    def update_language(self,language):\n",
    "        self.programming_language = language\n",
    "        print(\"Updated successfully\")\n",
    "    \n",
    "    def display_developer(self):\n",
    "        print(f\"\"\"Developer name is {self.name} with a salary of {self.salary} and works in {self.programming_language}\"\"\")\n",
    "        \n",
    "        \n",
    "obj = Manager(\"parth\",200000000,\"Data Science\")\n",
    "obj.display()\n",
    "obj.update_salary(3000000000)"
   ]
  },
  {
   "cell_type": "markdown",
   "id": "94676fdc",
   "metadata": {},
   "source": [
    "<b>8. Design a base class called \"Shape\" with attributes like \"colour\" and \"border_width.\" Create derived classes, \"Rectangle\" and \"Circle,\" that inherit from \"Shape\" and add specific attributes like \"length\" and \"width\" for the \"Rectangle\" class and \"radius\" for the \"Circle\" class.</b>"
   ]
  },
  {
   "cell_type": "code",
   "execution_count": 5,
   "id": "845d5ba6",
   "metadata": {},
   "outputs": [
    {
     "name": "stdout",
     "output_type": "stream",
     "text": [
      "Area of Circle is 78.5\n"
     ]
    }
   ],
   "source": [
    "class Shape:\n",
    "    def __init__(self,colour,border_width):\n",
    "        self.colour = colour\n",
    "        self.border_width = border_width\n",
    "        \n",
    "    def change_colour(colour):\n",
    "        self.colour = colour\n",
    "        \n",
    "    def change_width(width):\n",
    "        self.border_width = width\n",
    "        \n",
    "class Rectangle(Shape):\n",
    "    def __init__(self,colour,border_width,length,width):\n",
    "        super().__init__(colour,border_width)\n",
    "        self.length = length\n",
    "        self.width = width\n",
    "        \n",
    "    def area_rectangle(self):\n",
    "        print(f\"Area of Rectangle is \",self.length*self.width)\n",
    "        \n",
    "class Circle(Shape):\n",
    "    def __init__(self,colour,border_width,radius):\n",
    "        super().__init__(colour,border_width)\n",
    "        self.radius = radius\n",
    "        \n",
    "    def area_circle(self):\n",
    "        print(f\"Area of Circle is\",3.14*self.radius*self.radius)\n",
    "        \n",
    "obj = Circle(\"red\",\"1\",5)\n",
    "obj.area_circle()"
   ]
  },
  {
   "cell_type": "markdown",
   "id": "3e2c3b8d",
   "metadata": {},
   "source": [
    "<b>9. Create a base class called \"Device\" with attributes like \"brand\" and \"model.\" Derive two classes, \"Phone\" and \"Tablet,\" from \"Device.\" Add specific attributes like \"screen_size\" for the \"Phone\" class and \"battery_capacity\" for the \"Tablet\" class</b>"
   ]
  },
  {
   "cell_type": "code",
   "execution_count": 10,
   "id": "9a1b9bed",
   "metadata": {},
   "outputs": [
    {
     "name": "stdout",
     "output_type": "stream",
     "text": [
      "Update successful\n",
      "Current battery 3900\n"
     ]
    }
   ],
   "source": [
    "class Device:\n",
    "    def __init__(self,brand,model):\n",
    "        self.brand = brand\n",
    "        self.model = model\n",
    "        \n",
    "    def update_model(self,model):\n",
    "        self.model = model\n",
    "        print(\"Update successful\")\n",
    "        \n",
    "class Phone(Device):\n",
    "    def __init__(self,brand,model,screen_size):\n",
    "        super().__init__(brand,model)\n",
    "        self.screen_size = screen_size\n",
    "        \n",
    "    def update_size(self,size):\n",
    "        self.screen_size = size\n",
    "        print(\"Update successful\")\n",
    "    \n",
    "    def display_size(self):\n",
    "        print(f\"Screen size {self.size}\")\n",
    "        \n",
    "class Tablet(Device):\n",
    "    def __init__(self,brand,model,battery):\n",
    "        super().__init__(brand,model)\n",
    "        self.battery = battery\n",
    "        \n",
    "    def update_battery(self,battery):\n",
    "        self.battery = battery\n",
    "        print(\"Update successful\")\n",
    "    def display_battery(self):\n",
    "        print(f\"Current battery {self.battery}\")\n",
    "        \n",
    "obj = Tablet(\"Apple\",\"Iphone 14\",\"4000mH\")\n",
    "obj.update_battery(\"3900\")\n",
    "obj.display_battery()"
   ]
  },
  {
   "cell_type": "markdown",
   "id": "90e59266",
   "metadata": {},
   "source": [
    "<b>10. Create a base class called \"BankAccount\" with attributes like \"account_number\" and \"balance.\" Derive two classes, \"SavingsAccount\" and \"CheckingAccount,\" from \"BankAccount.\" Add specific methods like \"calculate_interest\" for the\n",
    "\"SavingsAccount\" class and \"deduct_fees\" for the \"CheckingAccount\" class.</b>"
   ]
  },
  {
   "cell_type": "code",
   "execution_count": 33,
   "id": "8408c2a3",
   "metadata": {},
   "outputs": [],
   "source": [
    "class BankAccount:\n",
    "    def __init__(self,account_number,balance):\n",
    "        self.__account_number = account_number\n",
    "        self.__balance = balance\n",
    "        \n",
    "    def get_account_details(self):\n",
    "        return self.__account_number,self.__balance\n",
    "    \n",
    "    def update_bal(self,balance):\n",
    "        self.__balance = balance\n",
    "        \n",
    "    \n",
    "class SavingsAccount(BankAccount):\n",
    "    __interest_rate = 7\n",
    "    def __init__(self,account_number,balance):\n",
    "        super().__init__(account_number,balance)\n",
    "        \n",
    "    def change_interest_rate(self,rate):\n",
    "        self.__interest_rate = rate\n",
    "        print(\"Updated\")\n",
    "        \n",
    "    def calculate_interest(self):\n",
    "        acc,bal = self.get_account_details()\n",
    "        interest = (bal * self.__interest_rate)/100\n",
    "        print(\"Calculated interest is: \",interest)\n",
    "        \n",
    "    def accountDetails(self):\n",
    "        acc,bal = self.get_account_details()\n",
    "        display_acc = len(acc[:-4])*\"x\"+acc[-4:]\n",
    "        print(\"Account number: \",display_acc)\n",
    "        print(\"Balance: \",bal)\n",
    "        \n",
    "class CheckingAccount(BankAccount):\n",
    "    __fees_amount = 20\n",
    "    def __init__(self,account_number,balance):\n",
    "        super().__init__(account_number,balance)\n",
    "        \n",
    "    def deduct_fees(self):\n",
    "        acc,bal = self.get_account_details()\n",
    "        self.update_bal(bal - self.__fees_amount)\n",
    "        print(\"Update successful\")\n",
    "        \n",
    "    def update_fees(self,fees):\n",
    "        self.__fees_amount = fees\n",
    "        print(\"Updated\")\n",
    "        \n",
    "    def accountDetails(self):\n",
    "        acc,bal = self.get_account_details()\n",
    "        display_acc = len(acc[:-4])*\"x\"+acc[-4:]\n",
    "        print(\"Account number: \",display_acc)\n",
    "        print(\"Balance: \",bal)"
   ]
  },
  {
   "cell_type": "code",
   "execution_count": 40,
   "id": "f9184452",
   "metadata": {},
   "outputs": [
    {
     "name": "stdout",
     "output_type": "stream",
     "text": [
      "Calculated interest is:  350000.0\n",
      "Account number:  xxxxx6789\n",
      "Balance:  5000000\n"
     ]
    }
   ],
   "source": [
    "obj = SavingsAccount(\"123456789\",5000000)\n",
    "obj.calculate_interest()\n",
    "obj.accountDetails()"
   ]
  },
  {
   "cell_type": "code",
   "execution_count": 44,
   "id": "881d27a0",
   "metadata": {},
   "outputs": [
    {
     "name": "stdout",
     "output_type": "stream",
     "text": [
      "Updated\n",
      "Calculated interest is:  400000.0\n"
     ]
    }
   ],
   "source": [
    "obj.change_interest_rate(8)\n",
    "obj.calculate_interest()"
   ]
  },
  {
   "cell_type": "code",
   "execution_count": 41,
   "id": "c35a2be6",
   "metadata": {},
   "outputs": [
    {
     "name": "stdout",
     "output_type": "stream",
     "text": [
      "Update successful\n",
      "Account number:  xxxxx4321\n",
      "Balance:  7999980\n"
     ]
    }
   ],
   "source": [
    "obj1 = CheckingAccount(\"987654321\",8000000)\n",
    "obj1.deduct_fees()\n",
    "obj1.accountDetails()"
   ]
  },
  {
   "cell_type": "code",
   "execution_count": null,
   "id": "77f1f265",
   "metadata": {},
   "outputs": [],
   "source": []
  }
 ],
 "metadata": {
  "kernelspec": {
   "display_name": "Python 3",
   "language": "python",
   "name": "python3"
  },
  "language_info": {
   "codemirror_mode": {
    "name": "ipython",
    "version": 3
   },
   "file_extension": ".py",
   "mimetype": "text/x-python",
   "name": "python",
   "nbconvert_exporter": "python",
   "pygments_lexer": "ipython3",
   "version": "3.8.8"
  }
 },
 "nbformat": 4,
 "nbformat_minor": 5
}
