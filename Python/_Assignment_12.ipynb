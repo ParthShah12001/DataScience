{
 "cells": [
  {
   "cell_type": "markdown",
   "id": "61543ecb-2399-4908-bd15-3154d2f3745d",
   "metadata": {},
   "source": [
    "# Assignment 12 Solution"
   ]
  },
  {
   "cell_type": "markdown",
   "id": "ebe69a7f",
   "metadata": {},
   "source": [
    "<b>1. What is the role of try and exception block?</b><br><br>\n",
    "<b>Ans: </b> Try and expect block are mainly used for exception or error handeling. If we want to handle a specific error in a certain way or we want to display something else for some other kinda error then we use try and exception block. If we use try and except block and we get an error then instead of throwing a error it will execute the code in except block"
   ]
  },
  {
   "cell_type": "markdown",
   "id": "9b566de2",
   "metadata": {},
   "source": [
    "<b>2. What is the syntax for a basic try-except block?</b><br><br>\n",
    "<b>Ans: </b>We have to use try and except block together we can't use them seperately. We can also add a finally block which will be executed every time irrespective of error raise or no. except block always comes after try block it can never come before try block.We can have multiple expect block for one try block."
   ]
  },
  {
   "cell_type": "code",
   "execution_count": 9,
   "id": "b8612679",
   "metadata": {},
   "outputs": [
    {
     "name": "stdout",
     "output_type": "stream",
     "text": [
      "Division by Zero\n",
      "Trying to divide\n"
     ]
    }
   ],
   "source": [
    "try:\n",
    "    x = 10/0\n",
    "except ZeroDivisionError:\n",
    "    print(\"Division by Zero\")\n",
    "except e:\n",
    "    print(e)\n",
    "finally:\n",
    "    print(\"Trying to divide\")"
   ]
  },
  {
   "cell_type": "markdown",
   "id": "a04a79db",
   "metadata": {},
   "source": [
    "<b>3. What happens if an exception occurs inside a try block and there is no matching except block?</b><br><br>\n",
    "<b>Ans: </b>If we are using try and except bloc and if the error is not handeled by exception then and we dont have a default error exception block where we handle any kind of error then it will throw a error. And if we have default exception block to handle it then it will handle it "
   ]
  },
  {
   "cell_type": "code",
   "execution_count": 11,
   "id": "c1bef25b",
   "metadata": {},
   "outputs": [
    {
     "name": "stdout",
     "output_type": "stream",
     "text": [
      "unsupported operand type(s) for /: 'int' and 'str'\n",
      "Trying to divide\n"
     ]
    }
   ],
   "source": [
    "try:\n",
    "    x = 10/'0'\n",
    "except ZeroDivisionError:\n",
    "    print(\"Division by Zero\")\n",
    "except Exception as e:\n",
    "    print(e)\n",
    "finally:\n",
    "    print(\"Trying to divide\")"
   ]
  },
  {
   "cell_type": "code",
   "execution_count": 12,
   "id": "342110c1",
   "metadata": {},
   "outputs": [
    {
     "name": "stdout",
     "output_type": "stream",
     "text": [
      "Trying to divide\n"
     ]
    },
    {
     "ename": "TypeError",
     "evalue": "unsupported operand type(s) for /: 'int' and 'str'",
     "output_type": "error",
     "traceback": [
      "\u001b[1;31m---------------------------------------------------------------------------\u001b[0m",
      "\u001b[1;31mTypeError\u001b[0m                                 Traceback (most recent call last)",
      "\u001b[1;32m<ipython-input-12-9bb6a52ddbac>\u001b[0m in \u001b[0;36m<module>\u001b[1;34m\u001b[0m\n\u001b[0;32m      1\u001b[0m \u001b[1;32mtry\u001b[0m\u001b[1;33m:\u001b[0m\u001b[1;33m\u001b[0m\u001b[1;33m\u001b[0m\u001b[0m\n\u001b[1;32m----> 2\u001b[1;33m     \u001b[0mx\u001b[0m \u001b[1;33m=\u001b[0m \u001b[1;36m10\u001b[0m\u001b[1;33m/\u001b[0m\u001b[1;34m'0'\u001b[0m\u001b[1;33m\u001b[0m\u001b[1;33m\u001b[0m\u001b[0m\n\u001b[0m\u001b[0;32m      3\u001b[0m \u001b[1;32mexcept\u001b[0m \u001b[0mZeroDivisionError\u001b[0m\u001b[1;33m:\u001b[0m\u001b[1;33m\u001b[0m\u001b[1;33m\u001b[0m\u001b[0m\n\u001b[0;32m      4\u001b[0m     \u001b[0mprint\u001b[0m\u001b[1;33m(\u001b[0m\u001b[1;34m\"Division by Zero\"\u001b[0m\u001b[1;33m)\u001b[0m\u001b[1;33m\u001b[0m\u001b[1;33m\u001b[0m\u001b[0m\n\u001b[0;32m      5\u001b[0m \u001b[1;32mfinally\u001b[0m\u001b[1;33m:\u001b[0m\u001b[1;33m\u001b[0m\u001b[1;33m\u001b[0m\u001b[0m\n",
      "\u001b[1;31mTypeError\u001b[0m: unsupported operand type(s) for /: 'int' and 'str'"
     ]
    }
   ],
   "source": [
    "try:\n",
    "    x = 10/'0'\n",
    "except ZeroDivisionError:\n",
    "    print(\"Division by Zero\")\n",
    "finally:\n",
    "    print(\"Trying to divide\")"
   ]
  },
  {
   "cell_type": "markdown",
   "id": "75dd58fa",
   "metadata": {},
   "source": [
    "<b>4. What is the difference between using a bare except block and specifying a specific exception type?</b><br><br>\n",
    "<b>Ans: </b>Bare exception block will handle any kind of exception and not just one specific type a specific expection block will help us identify a specific type of error and we can handle that specific type of error in a certain specific way but in a bare exception block we can differentiate between different types of erros"
   ]
  },
  {
   "cell_type": "markdown",
   "id": "2081723b",
   "metadata": {},
   "source": [
    "<b>5. Can you have nested try-except blocks in Python? If yes, then give an example.</b><br><br>\n",
    "<b>Ans: </b> Yes we can"
   ]
  },
  {
   "cell_type": "code",
   "execution_count": 14,
   "id": "86f8b537",
   "metadata": {},
   "outputs": [
    {
     "name": "stdout",
     "output_type": "stream",
     "text": [
      "Dividing by zero\n"
     ]
    }
   ],
   "source": [
    "try:\n",
    "    a = int(5) #use 'abc' to go for valueerror\n",
    "    try:\n",
    "        a / 0\n",
    "    except ZeroDivisionError:\n",
    "        print(\"Dividing by zero\")\n",
    "except ValueError:\n",
    "    print(\"Cant do \")\n",
    "    "
   ]
  },
  {
   "cell_type": "markdown",
   "id": "e0482f0d",
   "metadata": {},
   "source": [
    "<b>6. Can we use multiple exception blocks, if yes then give an example.</b><br><br>\n",
    "<b>Ans: </b>Yes we can use multiple except block for one try block but can you multiple try for one except block"
   ]
  },
  {
   "cell_type": "code",
   "execution_count": 17,
   "id": "757fcce7",
   "metadata": {},
   "outputs": [
    {
     "name": "stdout",
     "output_type": "stream",
     "text": [
      "unsupported operand type(s) for /: 'int' and 'str'\n"
     ]
    }
   ],
   "source": [
    "try:\n",
    "    x = a/'abc'\n",
    "except ZeroDivisionError:\n",
    "    print(\"Can't Divide by Zero\")\n",
    "except Exception as e:\n",
    "    print(e)"
   ]
  },
  {
   "cell_type": "markdown",
   "id": "1ed15d80",
   "metadata": {},
   "source": [
    "<b>7. Write the reason due to which following errors are raised:</b><br><br>\n",
    "\n",
    "EOFError<br>\n",
    "\n",
    "FloatingPointError<br>\n",
    "\n",
    "IndexError<br>\n",
    "\n",
    "MemoryError<br>\n",
    "\n",
    "OverflowError<br><br>\n",
    "\n",
    "<b>Ans: </b>`EOFError: `This error is raised when we are expecting for a user input but we didn't get any<br><br>\n",
    "`FloatingPointError: `:In Python, a FloatingPointError is an exception that occurs when a floating-point operation fails to execute properly, such as an invalid calculation or an overflow/underflow condition. However, it's important to note that in Python, the FloatingPointError exception is not raised by default and is not commonly encountered in typical programming scenarios.<br><br>\n",
    "`IndexError: ` 'When we are try to access a element in list which is not present or the index value is more then length of list<br><br>\n",
    "`MemoryError: `It is raised when an allocation request exceeds the available memory resources.<br><br>\n",
    "`OverflowError: ` It typically occurs when performing calculations that result in a value that is too large or too small to be represented by the given numeric type."
   ]
  },
  {
   "cell_type": "markdown",
   "id": "1f71a93a",
   "metadata": {},
   "source": [
    "<b>8. Write code for the following given scenario and add try-exception block to it.</b><br><br>\n",
    "\n",
    "Program to divide two numbers<br>\n",
    "\n",
    "Program to convert a string to an integer<br>\n",
    "\n",
    "Program to access an element in a list<br>\n",
    "\n",
    "Program to handle a specific exception<br>\n",
    "\n",
    "Program to handle any exception"
   ]
  },
  {
   "cell_type": "code",
   "execution_count": 19,
   "id": "4af1cda5",
   "metadata": {},
   "outputs": [
    {
     "name": "stdout",
     "output_type": "stream",
     "text": [
      "Can't divide by zero\n"
     ]
    }
   ],
   "source": [
    "#program to divide two numbers\n",
    "#program to handle specific exception\n",
    "def try_to_divide (a,b):\n",
    "    try:\n",
    "        x = a/b\n",
    "        return x\n",
    "    except ZeroDivisionError:\n",
    "        print(\"Can't divide by zero\")\n",
    "    except ValueError:\n",
    "        print(\"Data type mismatch\")\n",
    "    except Exception as e:\n",
    "        print(e)\n",
    "        \n",
    "try_to_divide(10,0)"
   ]
  },
  {
   "cell_type": "code",
   "execution_count": 24,
   "id": "267485f4",
   "metadata": {},
   "outputs": [
    {
     "name": "stdout",
     "output_type": "stream",
     "text": [
      "Some error occured\n"
     ]
    }
   ],
   "source": [
    "#Program to convert a string to an integer\n",
    "#Program to handle any exception\n",
    "def try_convert(a):\n",
    "    try:\n",
    "        x = int(a)\n",
    "        return x\n",
    "    except Exception as e:\n",
    "        print(\"Some error occured\")\n",
    "try_convert(\"abc\")"
   ]
  },
  {
   "cell_type": "code",
   "execution_count": 30,
   "id": "613e5da8",
   "metadata": {},
   "outputs": [
    {
     "name": "stdout",
     "output_type": "stream",
     "text": [
      "Trying to access element not present in list\n"
     ]
    }
   ],
   "source": [
    "#Program to access an element in a list\n",
    "def list_error(lst):\n",
    "    try:\n",
    "        x = lst[6]\n",
    "        return x\n",
    "    except IndexError:\n",
    "        print(\"Trying to access element not present in list\")\n",
    "list_error([1,2,3,4,5])"
   ]
  },
  {
   "cell_type": "code",
   "execution_count": null,
   "id": "7485deb7",
   "metadata": {},
   "outputs": [],
   "source": []
  }
 ],
 "metadata": {
  "kernelspec": {
   "display_name": "Python 3",
   "language": "python",
   "name": "python3"
  },
  "language_info": {
   "codemirror_mode": {
    "name": "ipython",
    "version": 3
   },
   "file_extension": ".py",
   "mimetype": "text/x-python",
   "name": "python",
   "nbconvert_exporter": "python",
   "pygments_lexer": "ipython3",
   "version": "3.8.8"
  }
 },
 "nbformat": 4,
 "nbformat_minor": 5
}
